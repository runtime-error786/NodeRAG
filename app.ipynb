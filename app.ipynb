{
 "cells": [
  {
   "cell_type": "code",
   "execution_count": 102,
   "metadata": {},
   "outputs": [],
   "source": [
    "# Wait 60 seconds before connecting using these details, or login to https://console.neo4j.io to validate the Aura Instance is available\n",
    "NEO4J_URI=\"neo4j+s://f2a9c169.databases.neo4j.io\"\n",
    "NEO4J_USERNAME=\"neo4j\"\n",
    "NEO4J_PASSWORD=\"wakSwADnPJZxg-Lyq3wEr_aAkPCdcM1H3Bkqc5njEoY\"\n",
    "AURA_INSTANCEID=\"f2a9c169\"\n",
    "AURA_INSTANCENAME=\"Instance01\"\n"
   ]
  },
  {
   "cell_type": "code",
   "execution_count": 103,
   "metadata": {},
   "outputs": [],
   "source": [
    "from langchain_community.graphs import Neo4jGraph\n"
   ]
  },
  {
   "cell_type": "code",
   "execution_count": 105,
   "metadata": {},
   "outputs": [],
   "source": [
    "graph = Neo4jGraph(\n",
    "    url=NEO4J_URI,\n",
    "    username=NEO4J_USERNAME,\n",
    "    password=NEO4J_PASSWORD\n",
    ")\n"
   ]
  },
  {
   "cell_type": "code",
   "execution_count": 106,
   "metadata": {},
   "outputs": [],
   "source": [
    "from langchain.document_loaders import WikipediaLoader\n"
   ]
  },
  {
   "cell_type": "code",
   "execution_count": 107,
   "metadata": {},
   "outputs": [
    {
     "name": "stderr",
     "output_type": "stream",
     "text": [
      "c:\\Users\\musta\\AppData\\Local\\Programs\\Python\\Python311\\Lib\\site-packages\\wikipedia\\wikipedia.py:389: GuessedAtParserWarning: No parser was explicitly specified, so I'm using the best available HTML parser for this system (\"lxml\"). This usually isn't a problem, but if you run this code on another system, or in a different virtual environment, it may use a different parser and behave differently.\n",
      "\n",
      "The code that caused this warning is on line 389 of the file c:\\Users\\musta\\AppData\\Local\\Programs\\Python\\Python311\\Lib\\site-packages\\wikipedia\\wikipedia.py. To get rid of this warning, pass the additional argument 'features=\"lxml\"' to the BeautifulSoup constructor.\n",
      "\n",
      "  lis = BeautifulSoup(html).find_all('li')\n"
     ]
    }
   ],
   "source": [
    "\n",
    "docs = WikipediaLoader(query=\"Elizabeth I\").load()"
   ]
  },
  {
   "cell_type": "code",
   "execution_count": 108,
   "metadata": {},
   "outputs": [
    {
     "data": {
      "text/plain": [
       "23"
      ]
     },
     "execution_count": 108,
     "metadata": {},
     "output_type": "execute_result"
    }
   ],
   "source": [
    "len(docs)\n"
   ]
  },
  {
   "cell_type": "code",
   "execution_count": 109,
   "metadata": {},
   "outputs": [
    {
     "data": {
      "text/plain": [
       "'Elizabeth I (7 September 1533 – 24 March 1603) was Queen of England and Ireland from 17 November 1558 until her death in 1603. She was the last monarch of the House of Tudor.\\nElizabeth was the only surviving child of Henry VIII and his second wife, Anne Boleyn. When Elizabeth was two years old, her parents\\' marriage was annulled, her mother was executed, and Elizabeth was declared illegitimate. Henry restored her to the line of succession when she was 10, via the Third Succession Act 1543. After Henry\\'s death in 1547, Elizabeth\\'s younger half-brother Edward VI ruled until his own death in 1553, bequeathing the crown to a Protestant cousin, Lady Jane Grey, and ignoring the claims of his two half-sisters, the Catholic Mary and the younger Elizabeth, in spite of statutes to the contrary. Edward\\'s will was set aside within weeks of his death and Mary became queen, deposing and executing Jane. During Mary\\'s reign, Elizabeth was imprisoned for nearly a year on suspicion of supporting Protestant rebels.\\nUpon her half-sister\\'s death in 1558, Elizabeth succeeded to the throne and set out to rule by good counsel. She depended heavily on a group of trusted advisers led by William Cecil, whom she created Baron Burghley. One of her first actions as queen was the establishment of an English Protestant church, of which she became the supreme governor. This era, later named the Elizabethan Religious Settlement, would evolve into the Church of England. It was expected that Elizabeth would marry and produce an heir; however, despite numerous courtships, she never did, and because of this she is sometimes referred to as the \"Virgin Queen\". She was eventually succeeded by her first cousin twice removed, James VI of Scotland, the son of Mary, Queen of Scots.\\nIn government, Elizabeth was more moderate than her father and siblings had been. One of her mottoes was video et taceo (\"I see and keep silent\"). In religion, she was relatively tolerant and avoided systematic persecution. After the pope declared her illegitimate in 1570, which in theory released English Catholics from allegiance to her, several conspiracies threatened her life, all of which were defeated with the help of her ministers\\' secret service, run by Sir Francis Walsingham. Elizabeth was cautious in foreign affairs, manoeuvring between the major powers of France and Spain. She half-heartedly supported a number of ineffective, poorly resourced military campaigns in the Netherlands, France, and Ireland. By the mid-1580s, England could no longer avoid war with Spain.\\nAs she grew older, Elizabeth became celebrated for her virginity. A cult of personality grew around her which was celebrated in the portraits, pageants, and literature of the day. Elizabeth\\'s reign became known as the Elizabethan era. The period is famous for the flourishing of English drama, led by playwrights such as William Shakespeare and Christopher Marlowe, the prowess of English maritime adventurers, such as Francis Drake and Walter Raleigh, and for the defeat of the Spanish Armada. Some historians depict Elizabeth as a short-tempered, sometimes indecisive ruler, who enjoyed more than her fair share of luck. Towards the end of her reign, a series of economic and military problems weakened her popularity. Elizabeth is acknowledged as a charismatic performer (\"Gloriana\") and a dogged survivor (\"Good Queen Bess\") in an era when government was ramshackle and limited, and when monarchs in neighbouring countries faced internal problems that jeopardised their thrones. After the short, disastrous reigns of her half-siblings, her 44 years on the throne provided welcome stability for the kingdom and helped to forge a sense of national identity.\\n\\n\\n== Early life ==\\n\\nElizabeth was born at Greenwich Palace on 7 September 1533 and was named after her grandmothers, Elizabeth of York and Lady Elizabeth Howard. She was the second child of Henry VIII of England born in wedlock to survive infancy. Her mother was Henry\\'s second wife, Ann'"
      ]
     },
     "execution_count": 109,
     "metadata": {},
     "output_type": "execute_result"
    }
   ],
   "source": [
    "docs[0].page_content\n",
    "\n"
   ]
  },
  {
   "cell_type": "code",
   "execution_count": 110,
   "metadata": {},
   "outputs": [],
   "source": [
    "from langchain.llms import Ollama"
   ]
  },
  {
   "cell_type": "code",
   "execution_count": 111,
   "metadata": {},
   "outputs": [],
   "source": [
    "model = Ollama(model=\"llama3\")\n"
   ]
  },
  {
   "cell_type": "code",
   "execution_count": 112,
   "metadata": {},
   "outputs": [],
   "source": [
    "from langchain.text_splitter import RecursiveCharacterTextSplitter"
   ]
  },
  {
   "cell_type": "code",
   "execution_count": 113,
   "metadata": {},
   "outputs": [],
   "source": [
    "content = docs[0].page_content"
   ]
  },
  {
   "cell_type": "code",
   "execution_count": 114,
   "metadata": {},
   "outputs": [],
   "source": [
    "text_splitter = RecursiveCharacterTextSplitter(\n",
    "    chunk_size=1000, \n",
    "    chunk_overlap=300 \n",
    ")\n"
   ]
  },
  {
   "cell_type": "code",
   "execution_count": 115,
   "metadata": {},
   "outputs": [],
   "source": [
    "chunks = text_splitter.split_text(content)"
   ]
  },
  {
   "cell_type": "code",
   "execution_count": 31,
   "metadata": {},
   "outputs": [
    {
     "name": "stdout",
     "output_type": "stream",
     "text": [
      "Chunk 1:\n",
      "Elizabeth I (7 September 1533 – 24 March 1603) was Queen of England and Ireland from 17 November 1558 until her death in 1603. She was the last monarch of the House of Tudor.\n",
      "\n",
      "--------------------------------------------------------------------------------\n",
      "\n",
      "Chunk 2:\n",
      "Elizabeth was the only surviving child of Henry VIII and his second wife, Anne Boleyn. When Elizabeth was two years old, her parents' marriage was annulled, her mother was executed, and Elizabeth was declared illegitimate. Henry restored her to the line of succession when she was 10, via the Third Succession Act 1543. After Henry's death in 1547, Elizabeth's younger half-brother Edward VI ruled until his own death in 1553, bequeathing the crown to a Protestant cousin, Lady Jane Grey, and ignoring the claims of his two half-sisters, the Catholic Mary and the younger Elizabeth, in spite of statutes to the contrary. Edward's will was set aside within weeks of his death and Mary became queen, deposing and executing Jane. During Mary's reign, Elizabeth was imprisoned for nearly a year on suspicion of supporting Protestant rebels.\n",
      "\n",
      "--------------------------------------------------------------------------------\n",
      "\n",
      "Chunk 3:\n",
      "Upon her half-sister's death in 1558, Elizabeth succeeded to the throne and set out to rule by good counsel. She depended heavily on a group of trusted advisers led by William Cecil, whom she created Baron Burghley. One of her first actions as queen was the establishment of an English Protestant church, of which she became the supreme governor. This era, later named the Elizabethan Religious Settlement, would evolve into the Church of England. It was expected that Elizabeth would marry and produce an heir; however, despite numerous courtships, she never did, and because of this she is sometimes referred to as the \"Virgin Queen\". She was eventually succeeded by her first cousin twice removed, James VI of Scotland, the son of Mary, Queen of Scots.\n",
      "\n",
      "--------------------------------------------------------------------------------\n",
      "\n",
      "Chunk 4:\n",
      "In government, Elizabeth was more moderate than her father and siblings had been. One of her mottoes was video et taceo (\"I see and keep silent\"). In religion, she was relatively tolerant and avoided systematic persecution. After the pope declared her illegitimate in 1570, which in theory released English Catholics from allegiance to her, several conspiracies threatened her life, all of which were defeated with the help of her ministers' secret service, run by Sir Francis Walsingham. Elizabeth was cautious in foreign affairs, manoeuvring between the major powers of France and Spain. She half-heartedly supported a number of ineffective, poorly resourced military campaigns in the Netherlands, France, and Ireland. By the mid-1580s, England could no longer avoid war with Spain.\n",
      "\n",
      "--------------------------------------------------------------------------------\n",
      "\n",
      "Chunk 5:\n",
      "As she grew older, Elizabeth became celebrated for her virginity. A cult of personality grew around her which was celebrated in the portraits, pageants, and literature of the day. Elizabeth's reign became known as the Elizabethan era. The period is famous for the flourishing of English drama, led by playwrights such as William Shakespeare and Christopher Marlowe, the prowess of English maritime adventurers, such as Francis Drake and Walter Raleigh, and for the defeat of the Spanish Armada. Some historians depict Elizabeth as a short-tempered, sometimes indecisive ruler, who enjoyed more than her fair share of luck. Towards the end of her reign, a series of economic and military problems weakened her popularity. Elizabeth is acknowledged as a charismatic performer (\"Gloriana\") and a dogged survivor (\"Good Queen Bess\") in an era when government was ramshackle and limited, and when monarchs in neighbouring countries faced internal problems that jeopardised their thrones. After the short,\n",
      "\n",
      "--------------------------------------------------------------------------------\n",
      "\n",
      "Chunk 6:\n",
      "her popularity. Elizabeth is acknowledged as a charismatic performer (\"Gloriana\") and a dogged survivor (\"Good Queen Bess\") in an era when government was ramshackle and limited, and when monarchs in neighbouring countries faced internal problems that jeopardised their thrones. After the short, disastrous reigns of her half-siblings, her 44 years on the throne provided welcome stability for the kingdom and helped to forge a sense of national identity.\n",
      "\n",
      "--------------------------------------------------------------------------------\n",
      "\n",
      "Chunk 7:\n",
      "== Early life ==\n",
      "\n",
      "Elizabeth was born at Greenwich Palace on 7 September 1533 and was named after her grandmothers, Elizabeth of York and Lady Elizabeth Howard. She was the second child of Henry VIII of England born in wedlock to survive infancy. Her mother was Henry's second wife, Ann\n",
      "\n",
      "--------------------------------------------------------------------------------\n",
      "\n"
     ]
    }
   ],
   "source": [
    "for i, chunk in enumerate(chunks):\n",
    "    print(f\"Chunk {i + 1}:\")\n",
    "    print(chunk)\n",
    "    print(\"\\n\" + \"-\"*80 + \"\\n\")"
   ]
  },
  {
   "cell_type": "code",
   "execution_count": 116,
   "metadata": {},
   "outputs": [],
   "source": [
    "from langchain.schema import Document"
   ]
  },
  {
   "cell_type": "code",
   "execution_count": 54,
   "metadata": {},
   "outputs": [],
   "source": [
    "from pydantic import ValidationError\n"
   ]
  },
  {
   "cell_type": "code",
   "execution_count": 55,
   "metadata": {},
   "outputs": [],
   "source": [
    "documents = [Document(page_content=chunk) for chunk in chunks]"
   ]
  },
  {
   "cell_type": "code",
   "execution_count": 56,
   "metadata": {},
   "outputs": [],
   "source": [
    "from langchain_experimental.graph_transformers import LLMGraphTransformer\n"
   ]
  },
  {
   "cell_type": "code",
   "execution_count": 57,
   "metadata": {},
   "outputs": [],
   "source": [
    "llm_transformer = LLMGraphTransformer(llm=model)"
   ]
  },
  {
   "cell_type": "code",
   "execution_count": 58,
   "metadata": {},
   "outputs": [
    {
     "name": "stdout",
     "output_type": "stream",
     "text": [
      "nodes=[Node(id='Elizabeth I', type='Person'), Node(id='England and Ireland', type='Location'), Node(id='17 November 1558', type='Date'), Node(id='1603', type='Date')] relationships=[Relationship(source=Node(id='Elizabeth I', type='Person'), target=Node(id='England and Ireland', type='Location'), type='WAS_QUEEN_OF'), Relationship(source=Node(id='Elizabeth I', type='Person'), target=Node(id='1603', type='Date'), type='DIED_IN'), Relationship(source=Node(id='Elizabeth I', type='Person'), target=Node(id='17 November 1558', type='Date'), type='REIGNED_FROM')] source=Document(page_content='Elizabeth I (7 September 1533 – 24 March 1603) was Queen of England and Ireland from 17 November 1558 until her death in 1603. She was the last monarch of the House of Tudor.')\n",
      "nodes=[Node(id='Mary', type='Person'), Node(id='Anne Boleyn', type='Person'), Node(id='Edward VI', type='Person'), Node(id='Lady Jane Grey', type='Person'), Node(id='Henry VIII', type='Person'), Node(id='Elizabeth', type='Person'), Node(id='None', type='None')] relationships=[Relationship(source=Node(id='Elizabeth', type='Person'), target=Node(id='Henry VIII', type='Person'), type='CHILD_OF'), Relationship(source=Node(id='Anne Boleyn', type='Person'), target=Node(id='Elizabeth', type='Person'), type='MOTHER_OF'), Relationship(source=Node(id='Henry VIII', type='Person'), target=Node(id='Anne Boleyn', type='Person'), type='PARENT_OF'), Relationship(source=Node(id='Elizabeth', type='Person'), target=Node(id='None', type='None'), type='DECLARED_ILLEGITIMATE'), Relationship(source=Node(id='Henry VIII', type='Person'), target=Node(id='Elizabeth', type='Person'), type='RESTORED_SUCCESSION'), Relationship(source=Node(id='Edward VI', type='Person'), target=Node(id='None', type='None'), type='RULER_OF'), Relationship(source=Node(id='Lady Jane Grey', type='Person'), target=Node(id='None', type='None'), type='BECAME_QUEEN'), Relationship(source=Node(id='Mary', type='Person'), target=Node(id='Lady Jane Grey', type='Person'), type='DEPOSED_AND_EXECUTED'), Relationship(source=Node(id='Elizabeth', type='Person'), target=Node(id='None', type='None'), type='IMPRISONED')] source=Document(page_content=\"Elizabeth was the only surviving child of Henry VIII and his second wife, Anne Boleyn. When Elizabeth was two years old, her parents' marriage was annulled, her mother was executed, and Elizabeth was declared illegitimate. Henry restored her to the line of succession when she was 10, via the Third Succession Act 1543. After Henry's death in 1547, Elizabeth's younger half-brother Edward VI ruled until his own death in 1553, bequeathing the crown to a Protestant cousin, Lady Jane Grey, and ignoring the claims of his two half-sisters, the Catholic Mary and the younger Elizabeth, in spite of statutes to the contrary. Edward's will was set aside within weeks of his death and Mary became queen, deposing and executing Jane. During Mary's reign, Elizabeth was imprisoned for nearly a year on suspicion of supporting Protestant rebels.\")\n",
      "nodes=[Node(id='James VI of Scotland', type='Person'), Node(id='English Protestant church', type='Organization'), Node(id='Baron Burghley', type='Title'), Node(id='Virgin Queen', type='Nickname'), Node(id='Elizabeth', type='Person'), Node(id='William Cecil', type='Person'), Node(id='throne', type='Position')] relationships=[Relationship(source=Node(id='Elizabeth', type='Person'), target=Node(id='throne', type='Position'), type='SUCCEEDED_TO'), Relationship(source=Node(id='William Cecil', type='Person'), target=Node(id='Elizabeth', type='Person'), type='LED_BY'), Relationship(source=Node(id='Elizabeth', type='Person'), target=Node(id='Baron Burghley', type='Title'), type='CREATED_BARON'), Relationship(source=Node(id='Elizabeth', type='Person'), target=Node(id='English Protestant church', type='Organization'), type='ESTABLISHED'), Relationship(source=Node(id='Elizabeth', type='Person'), target=Node(id='English Protestant church', type='Organization'), type='BECAME_SUPREME_GOVERNOR_OF'), Relationship(source=Node(id='Elizabeth', type='Person'), target=Node(id='Virgin Queen', type='Nickname'), type='REFERRED_TO_AS'), Relationship(source=Node(id='James VI of Scotland', type='Person'), target=Node(id='throne', type='Position'), type='SUCCEEDED_TO')] source=Document(page_content='Upon her half-sister\\'s death in 1558, Elizabeth succeeded to the throne and set out to rule by good counsel. She depended heavily on a group of trusted advisers led by William Cecil, whom she created Baron Burghley. One of her first actions as queen was the establishment of an English Protestant church, of which she became the supreme governor. This era, later named the Elizabethan Religious Settlement, would evolve into the Church of England. It was expected that Elizabeth would marry and produce an heir; however, despite numerous courtships, she never did, and because of this she is sometimes referred to as the \"Virgin Queen\". She was eventually succeeded by her first cousin twice removed, James VI of Scotland, the son of Mary, Queen of Scots.')\n",
      "nodes=[Node(id=\"her ministers' secret service\", type='Organization'), Node(id='Sir Francis Walsingham', type='Person'), Node(id='her father and siblings', type='Group'), Node(id='video et taceo', type='Motto'), Node(id='systematic persecution', type='Concept'), Node(id='England', type='Country'), Node(id='Spain', type='Country'), Node(id='religion', type='Attribute'), Node(id='Elizabeth', type='Person'), Node(id='France and Spain', type='Countries')] relationships=[Relationship(source=Node(id='Elizabeth', type='Person'), target=Node(id='her father and siblings', type='Group'), type='WAS_MORE_MODERATE_THAN'), Relationship(source=Node(id='Elizabeth', type='Person'), target=Node(id='video et taceo', type='Motto'), type='HAD_MOTTO'), Relationship(source=Node(id='Elizabeth', type='Person'), target=Node(id='religion', type='Attribute'), type='WAS_RELATIVELY_TOLERANT'), Relationship(source=Node(id='Elizabeth', type='Person'), target=Node(id='systematic persecution', type='Concept'), type='AVOIDED_SYSTEMATIC_PERSECUTION'), Relationship(source=Node(id='Elizabeth', type='Person'), target=Node(id=\"her ministers' secret service\", type='Organization'), type='WAS_HELPED_BY'), Relationship(source=Node(id='Sir Francis Walsingham', type='Person'), target=Node(id=\"her ministers' secret service\", type='Organization'), type='RUN'), Relationship(source=Node(id='Elizabeth', type='Person'), target=Node(id='France and Spain', type='Countries'), type='MANOEUVRED_BETWEEN'), Relationship(source=Node(id='England', type='Country'), target=Node(id='Spain', type='Country'), type='WAS_INVOLVED_IN_WAR_WITH')] source=Document(page_content='In government, Elizabeth was more moderate than her father and siblings had been. One of her mottoes was video et taceo (\"I see and keep silent\"). In religion, she was relatively tolerant and avoided systematic persecution. After the pope declared her illegitimate in 1570, which in theory released English Catholics from allegiance to her, several conspiracies threatened her life, all of which were defeated with the help of her ministers\\' secret service, run by Sir Francis Walsingham. Elizabeth was cautious in foreign affairs, manoeuvring between the major powers of France and Spain. She half-heartedly supported a number of ineffective, poorly resourced military campaigns in the Netherlands, France, and Ireland. By the mid-1580s, England could no longer avoid war with Spain.')\n",
      "nodes=[Node(id='a charismatic performer and a dogged survivor', type='Description'), Node(id='around her', type='Relationship'), Node(id='her virginity', type='Characteristic'), Node(id='', type=''), Node(id='English drama', type='Field of Study'), Node(id='William Shakespeare', type='Person'), Node(id='Elizabethan era', type='Era'), Node(id='English maritime adventures', type='Field of Study'), Node(id='the flourishing of English drama', type='Field of Study'), Node(id='Francis Drake', type='Person'), Node(id='Christopher Marlowe', type='Person'), Node(id='economic and military problems', type='Characteristic'), Node(id='Elizabeth', type='Person'), Node(id='Walter Raleigh', type='Person'), Node(id='England', type='Location'), Node(id='the Elizabethan era', type='Era')] relationships=[Relationship(source=Node(id='Elizabeth', type='Person'), target=Node(id='her virginity', type='Characteristic'), type='BECAME_CELLEBRATED_FOR'), Relationship(source=Node(id='Elizabeth', type='Person'), target=Node(id='around her', type='Relationship'), type='HAD_CULT_OF_PERSONALITY'), Relationship(source=Node(id='Elizabeth', type='Person'), target=Node(id='England', type='Location'), type='RULED'), Relationship(source=Node(id='Elizabethan era', type='Era'), target=Node(id='', type=''), type='PERIOD_OF_TIME'), Relationship(source=Node(id='English drama', type='Field of Study'), target=Node(id='the Elizabethan era', type='Era'), type='FLOURISHED_DURING'), Relationship(source=Node(id='William Shakespeare', type='Person'), target=Node(id='the flourishing of English drama', type='Field of Study'), type='LED'), Relationship(source=Node(id='Christopher Marlowe', type='Person'), target=Node(id='the flourishing of English drama', type='Field of Study'), type='LED'), Relationship(source=Node(id='Francis Drake', type='Person'), target=Node(id='English maritime adventures', type='Field of Study'), type='EXHIBITED_PROWESS_IN'), Relationship(source=Node(id='Walter Raleigh', type='Person'), target=Node(id='English maritime adventures', type='Field of Study'), type='EXHIBITED_PROWESS_IN'), Relationship(source=Node(id='Elizabeth', type='Person'), target=Node(id='', type=''), type='DEFEATED_THE_SPANISH_ARMADA'), Relationship(source=Node(id='Elizabeth', type='Person'), target=Node(id='economic and military problems', type='Characteristic'), type='HAD_POPULARITY_WEAKENED_BY'), Relationship(source=Node(id='Elizabeth', type='Person'), target=Node(id='a charismatic performer and a dogged survivor', type='Description'), type='WAS_ACKNOWLEDGED_AS')] source=Document(page_content='As she grew older, Elizabeth became celebrated for her virginity. A cult of personality grew around her which was celebrated in the portraits, pageants, and literature of the day. Elizabeth\\'s reign became known as the Elizabethan era. The period is famous for the flourishing of English drama, led by playwrights such as William Shakespeare and Christopher Marlowe, the prowess of English maritime adventurers, such as Francis Drake and Walter Raleigh, and for the defeat of the Spanish Armada. Some historians depict Elizabeth as a short-tempered, sometimes indecisive ruler, who enjoyed more than her fair share of luck. Towards the end of her reign, a series of economic and military problems weakened her popularity. Elizabeth is acknowledged as a charismatic performer (\"Gloriana\") and a dogged survivor (\"Good Queen Bess\") in an era when government was ramshackle and limited, and when monarchs in neighbouring countries faced internal problems that jeopardised their thrones. After the short,')\n",
      "nodes=[Node(id='Gloriana', type='Nickname'), Node(id='kingdom', type='Location'), Node(id='Good Queen Bess', type='Nickname'), Node(id='Elizabeth', type='Person')] relationships=[Relationship(source=Node(id='Elizabeth', type='Person'), target=Node(id='kingdom', type='Location'), type='REIGNS_OVER'), Relationship(source=Node(id='Gloriana', type='Nickname'), target=Node(id='Elizabeth', type='Person'), type='CHARACTERIZED_AS'), Relationship(source=Node(id='Good Queen Bess', type='Nickname'), target=Node(id='Elizabeth', type='Person'), type='CHARACTERIZED_AS')] source=Document(page_content='her popularity. Elizabeth is acknowledged as a charismatic performer (\"Gloriana\") and a dogged survivor (\"Good Queen Bess\") in an era when government was ramshackle and limited, and when monarchs in neighbouring countries faced internal problems that jeopardised their thrones. After the short, disastrous reigns of her half-siblings, her 44 years on the throne provided welcome stability for the kingdom and helped to forge a sense of national identity.')\n",
      "nodes=[Node(id='Elizabeth of York', type='Person'), Node(id='Lady Elizabeth Howard', type='Person'), Node(id='Greenwich Palace', type='Location'), Node(id='Ann', type='Person'), Node(id='Elizabeth', type='Person'), Node(id='Henry VIII of England', type='Person')] relationships=[Relationship(source=Node(id='Elizabeth', type='Person'), target=Node(id='Greenwich Palace', type='Location'), type='BORN_AT'), Relationship(source=Node(id='Elizabeth', type='Person'), target=Node(id='Elizabeth of York', type='Person'), type='NAMED_AFTER'), Relationship(source=Node(id='Elizabeth', type='Person'), target=Node(id='Lady Elizabeth Howard', type='Person'), type='NAMED_AFTER'), Relationship(source=Node(id='Henry VIII of England', type='Person'), target=Node(id='Elizabeth', type='Person'), type='PARENT_OF'), Relationship(source=Node(id='Ann', type='Person'), target=Node(id='Elizabeth', type='Person'), type='MOTHER_OF')] source=Document(page_content=\"== Early life ==\\n\\nElizabeth was born at Greenwich Palace on 7 September 1533 and was named after her grandmothers, Elizabeth of York and Lady Elizabeth Howard. She was the second child of Henry VIII of England born in wedlock to survive infancy. Her mother was Henry's second wife, Ann\")\n"
     ]
    }
   ],
   "source": [
    "try:\n",
    "    graph_documents = llm_transformer.convert_to_graph_documents(documents)\n",
    "    # Print or use graph_documents\n",
    "    for gd in graph_documents:\n",
    "        print(gd)\n",
    "except AttributeError as e:\n",
    "    print(f\"Attribute error: {e}\")\n",
    "except ValidationError as e:\n",
    "    print(f\"Validation error: {e}\")"
   ]
  },
  {
   "cell_type": "code",
   "execution_count": 59,
   "metadata": {},
   "outputs": [
    {
     "data": {
      "text/plain": [
       "[GraphDocument(nodes=[Node(id='Elizabeth I', type='Person'), Node(id='England and Ireland', type='Location'), Node(id='17 November 1558', type='Date'), Node(id='1603', type='Date')], relationships=[Relationship(source=Node(id='Elizabeth I', type='Person'), target=Node(id='England and Ireland', type='Location'), type='WAS_QUEEN_OF'), Relationship(source=Node(id='Elizabeth I', type='Person'), target=Node(id='1603', type='Date'), type='DIED_IN'), Relationship(source=Node(id='Elizabeth I', type='Person'), target=Node(id='17 November 1558', type='Date'), type='REIGNED_FROM')], source=Document(page_content='Elizabeth I (7 September 1533 – 24 March 1603) was Queen of England and Ireland from 17 November 1558 until her death in 1603. She was the last monarch of the House of Tudor.')),\n",
       " GraphDocument(nodes=[Node(id='Mary', type='Person'), Node(id='Anne Boleyn', type='Person'), Node(id='Edward VI', type='Person'), Node(id='Lady Jane Grey', type='Person'), Node(id='Henry VIII', type='Person'), Node(id='Elizabeth', type='Person'), Node(id='None', type='None')], relationships=[Relationship(source=Node(id='Elizabeth', type='Person'), target=Node(id='Henry VIII', type='Person'), type='CHILD_OF'), Relationship(source=Node(id='Anne Boleyn', type='Person'), target=Node(id='Elizabeth', type='Person'), type='MOTHER_OF'), Relationship(source=Node(id='Henry VIII', type='Person'), target=Node(id='Anne Boleyn', type='Person'), type='PARENT_OF'), Relationship(source=Node(id='Elizabeth', type='Person'), target=Node(id='None', type='None'), type='DECLARED_ILLEGITIMATE'), Relationship(source=Node(id='Henry VIII', type='Person'), target=Node(id='Elizabeth', type='Person'), type='RESTORED_SUCCESSION'), Relationship(source=Node(id='Edward VI', type='Person'), target=Node(id='None', type='None'), type='RULER_OF'), Relationship(source=Node(id='Lady Jane Grey', type='Person'), target=Node(id='None', type='None'), type='BECAME_QUEEN'), Relationship(source=Node(id='Mary', type='Person'), target=Node(id='Lady Jane Grey', type='Person'), type='DEPOSED_AND_EXECUTED'), Relationship(source=Node(id='Elizabeth', type='Person'), target=Node(id='None', type='None'), type='IMPRISONED')], source=Document(page_content=\"Elizabeth was the only surviving child of Henry VIII and his second wife, Anne Boleyn. When Elizabeth was two years old, her parents' marriage was annulled, her mother was executed, and Elizabeth was declared illegitimate. Henry restored her to the line of succession when she was 10, via the Third Succession Act 1543. After Henry's death in 1547, Elizabeth's younger half-brother Edward VI ruled until his own death in 1553, bequeathing the crown to a Protestant cousin, Lady Jane Grey, and ignoring the claims of his two half-sisters, the Catholic Mary and the younger Elizabeth, in spite of statutes to the contrary. Edward's will was set aside within weeks of his death and Mary became queen, deposing and executing Jane. During Mary's reign, Elizabeth was imprisoned for nearly a year on suspicion of supporting Protestant rebels.\")),\n",
       " GraphDocument(nodes=[Node(id='James VI of Scotland', type='Person'), Node(id='English Protestant church', type='Organization'), Node(id='Baron Burghley', type='Title'), Node(id='Virgin Queen', type='Nickname'), Node(id='Elizabeth', type='Person'), Node(id='William Cecil', type='Person'), Node(id='throne', type='Position')], relationships=[Relationship(source=Node(id='Elizabeth', type='Person'), target=Node(id='throne', type='Position'), type='SUCCEEDED_TO'), Relationship(source=Node(id='William Cecil', type='Person'), target=Node(id='Elizabeth', type='Person'), type='LED_BY'), Relationship(source=Node(id='Elizabeth', type='Person'), target=Node(id='Baron Burghley', type='Title'), type='CREATED_BARON'), Relationship(source=Node(id='Elizabeth', type='Person'), target=Node(id='English Protestant church', type='Organization'), type='ESTABLISHED'), Relationship(source=Node(id='Elizabeth', type='Person'), target=Node(id='English Protestant church', type='Organization'), type='BECAME_SUPREME_GOVERNOR_OF'), Relationship(source=Node(id='Elizabeth', type='Person'), target=Node(id='Virgin Queen', type='Nickname'), type='REFERRED_TO_AS'), Relationship(source=Node(id='James VI of Scotland', type='Person'), target=Node(id='throne', type='Position'), type='SUCCEEDED_TO')], source=Document(page_content='Upon her half-sister\\'s death in 1558, Elizabeth succeeded to the throne and set out to rule by good counsel. She depended heavily on a group of trusted advisers led by William Cecil, whom she created Baron Burghley. One of her first actions as queen was the establishment of an English Protestant church, of which she became the supreme governor. This era, later named the Elizabethan Religious Settlement, would evolve into the Church of England. It was expected that Elizabeth would marry and produce an heir; however, despite numerous courtships, she never did, and because of this she is sometimes referred to as the \"Virgin Queen\". She was eventually succeeded by her first cousin twice removed, James VI of Scotland, the son of Mary, Queen of Scots.')),\n",
       " GraphDocument(nodes=[Node(id=\"her ministers' secret service\", type='Organization'), Node(id='Sir Francis Walsingham', type='Person'), Node(id='her father and siblings', type='Group'), Node(id='video et taceo', type='Motto'), Node(id='systematic persecution', type='Concept'), Node(id='England', type='Country'), Node(id='Spain', type='Country'), Node(id='religion', type='Attribute'), Node(id='Elizabeth', type='Person'), Node(id='France and Spain', type='Countries')], relationships=[Relationship(source=Node(id='Elizabeth', type='Person'), target=Node(id='her father and siblings', type='Group'), type='WAS_MORE_MODERATE_THAN'), Relationship(source=Node(id='Elizabeth', type='Person'), target=Node(id='video et taceo', type='Motto'), type='HAD_MOTTO'), Relationship(source=Node(id='Elizabeth', type='Person'), target=Node(id='religion', type='Attribute'), type='WAS_RELATIVELY_TOLERANT'), Relationship(source=Node(id='Elizabeth', type='Person'), target=Node(id='systematic persecution', type='Concept'), type='AVOIDED_SYSTEMATIC_PERSECUTION'), Relationship(source=Node(id='Elizabeth', type='Person'), target=Node(id=\"her ministers' secret service\", type='Organization'), type='WAS_HELPED_BY'), Relationship(source=Node(id='Sir Francis Walsingham', type='Person'), target=Node(id=\"her ministers' secret service\", type='Organization'), type='RUN'), Relationship(source=Node(id='Elizabeth', type='Person'), target=Node(id='France and Spain', type='Countries'), type='MANOEUVRED_BETWEEN'), Relationship(source=Node(id='England', type='Country'), target=Node(id='Spain', type='Country'), type='WAS_INVOLVED_IN_WAR_WITH')], source=Document(page_content='In government, Elizabeth was more moderate than her father and siblings had been. One of her mottoes was video et taceo (\"I see and keep silent\"). In religion, she was relatively tolerant and avoided systematic persecution. After the pope declared her illegitimate in 1570, which in theory released English Catholics from allegiance to her, several conspiracies threatened her life, all of which were defeated with the help of her ministers\\' secret service, run by Sir Francis Walsingham. Elizabeth was cautious in foreign affairs, manoeuvring between the major powers of France and Spain. She half-heartedly supported a number of ineffective, poorly resourced military campaigns in the Netherlands, France, and Ireland. By the mid-1580s, England could no longer avoid war with Spain.')),\n",
       " GraphDocument(nodes=[Node(id='a charismatic performer and a dogged survivor', type='Description'), Node(id='around her', type='Relationship'), Node(id='her virginity', type='Characteristic'), Node(id='', type=''), Node(id='English drama', type='Field of Study'), Node(id='William Shakespeare', type='Person'), Node(id='Elizabethan era', type='Era'), Node(id='English maritime adventures', type='Field of Study'), Node(id='the flourishing of English drama', type='Field of Study'), Node(id='Francis Drake', type='Person'), Node(id='Christopher Marlowe', type='Person'), Node(id='economic and military problems', type='Characteristic'), Node(id='Elizabeth', type='Person'), Node(id='Walter Raleigh', type='Person'), Node(id='England', type='Location'), Node(id='the Elizabethan era', type='Era')], relationships=[Relationship(source=Node(id='Elizabeth', type='Person'), target=Node(id='her virginity', type='Characteristic'), type='BECAME_CELLEBRATED_FOR'), Relationship(source=Node(id='Elizabeth', type='Person'), target=Node(id='around her', type='Relationship'), type='HAD_CULT_OF_PERSONALITY'), Relationship(source=Node(id='Elizabeth', type='Person'), target=Node(id='England', type='Location'), type='RULED'), Relationship(source=Node(id='Elizabethan era', type='Era'), target=Node(id='', type=''), type='PERIOD_OF_TIME'), Relationship(source=Node(id='English drama', type='Field of Study'), target=Node(id='the Elizabethan era', type='Era'), type='FLOURISHED_DURING'), Relationship(source=Node(id='William Shakespeare', type='Person'), target=Node(id='the flourishing of English drama', type='Field of Study'), type='LED'), Relationship(source=Node(id='Christopher Marlowe', type='Person'), target=Node(id='the flourishing of English drama', type='Field of Study'), type='LED'), Relationship(source=Node(id='Francis Drake', type='Person'), target=Node(id='English maritime adventures', type='Field of Study'), type='EXHIBITED_PROWESS_IN'), Relationship(source=Node(id='Walter Raleigh', type='Person'), target=Node(id='English maritime adventures', type='Field of Study'), type='EXHIBITED_PROWESS_IN'), Relationship(source=Node(id='Elizabeth', type='Person'), target=Node(id='', type=''), type='DEFEATED_THE_SPANISH_ARMADA'), Relationship(source=Node(id='Elizabeth', type='Person'), target=Node(id='economic and military problems', type='Characteristic'), type='HAD_POPULARITY_WEAKENED_BY'), Relationship(source=Node(id='Elizabeth', type='Person'), target=Node(id='a charismatic performer and a dogged survivor', type='Description'), type='WAS_ACKNOWLEDGED_AS')], source=Document(page_content='As she grew older, Elizabeth became celebrated for her virginity. A cult of personality grew around her which was celebrated in the portraits, pageants, and literature of the day. Elizabeth\\'s reign became known as the Elizabethan era. The period is famous for the flourishing of English drama, led by playwrights such as William Shakespeare and Christopher Marlowe, the prowess of English maritime adventurers, such as Francis Drake and Walter Raleigh, and for the defeat of the Spanish Armada. Some historians depict Elizabeth as a short-tempered, sometimes indecisive ruler, who enjoyed more than her fair share of luck. Towards the end of her reign, a series of economic and military problems weakened her popularity. Elizabeth is acknowledged as a charismatic performer (\"Gloriana\") and a dogged survivor (\"Good Queen Bess\") in an era when government was ramshackle and limited, and when monarchs in neighbouring countries faced internal problems that jeopardised their thrones. After the short,')),\n",
       " GraphDocument(nodes=[Node(id='Gloriana', type='Nickname'), Node(id='kingdom', type='Location'), Node(id='Good Queen Bess', type='Nickname'), Node(id='Elizabeth', type='Person')], relationships=[Relationship(source=Node(id='Elizabeth', type='Person'), target=Node(id='kingdom', type='Location'), type='REIGNS_OVER'), Relationship(source=Node(id='Gloriana', type='Nickname'), target=Node(id='Elizabeth', type='Person'), type='CHARACTERIZED_AS'), Relationship(source=Node(id='Good Queen Bess', type='Nickname'), target=Node(id='Elizabeth', type='Person'), type='CHARACTERIZED_AS')], source=Document(page_content='her popularity. Elizabeth is acknowledged as a charismatic performer (\"Gloriana\") and a dogged survivor (\"Good Queen Bess\") in an era when government was ramshackle and limited, and when monarchs in neighbouring countries faced internal problems that jeopardised their thrones. After the short, disastrous reigns of her half-siblings, her 44 years on the throne provided welcome stability for the kingdom and helped to forge a sense of national identity.')),\n",
       " GraphDocument(nodes=[Node(id='Elizabeth of York', type='Person'), Node(id='Lady Elizabeth Howard', type='Person'), Node(id='Greenwich Palace', type='Location'), Node(id='Ann', type='Person'), Node(id='Elizabeth', type='Person'), Node(id='Henry VIII of England', type='Person')], relationships=[Relationship(source=Node(id='Elizabeth', type='Person'), target=Node(id='Greenwich Palace', type='Location'), type='BORN_AT'), Relationship(source=Node(id='Elizabeth', type='Person'), target=Node(id='Elizabeth of York', type='Person'), type='NAMED_AFTER'), Relationship(source=Node(id='Elizabeth', type='Person'), target=Node(id='Lady Elizabeth Howard', type='Person'), type='NAMED_AFTER'), Relationship(source=Node(id='Henry VIII of England', type='Person'), target=Node(id='Elizabeth', type='Person'), type='PARENT_OF'), Relationship(source=Node(id='Ann', type='Person'), target=Node(id='Elizabeth', type='Person'), type='MOTHER_OF')], source=Document(page_content=\"== Early life ==\\n\\nElizabeth was born at Greenwich Palace on 7 September 1533 and was named after her grandmothers, Elizabeth of York and Lady Elizabeth Howard. She was the second child of Henry VIII of England born in wedlock to survive infancy. Her mother was Henry's second wife, Ann\"))]"
      ]
     },
     "execution_count": 59,
     "metadata": {},
     "output_type": "execute_result"
    }
   ],
   "source": [
    "graph_documents"
   ]
  },
  {
   "cell_type": "code",
   "execution_count": 22,
   "metadata": {},
   "outputs": [],
   "source": [
    "# graph.add_graph_documents(graph_documents)"
   ]
  },
  {
   "cell_type": "code",
   "execution_count": 32,
   "metadata": {},
   "outputs": [
    {
     "ename": "NameError",
     "evalue": "name 'graph_documents' is not defined",
     "output_type": "error",
     "traceback": [
      "\u001b[1;31m---------------------------------------------------------------------------\u001b[0m",
      "\u001b[1;31mNameError\u001b[0m                                 Traceback (most recent call last)",
      "Cell \u001b[1;32mIn[32], line 1\u001b[0m\n\u001b[1;32m----> 1\u001b[0m \u001b[38;5;28;01mfor\u001b[39;00m document \u001b[38;5;129;01min\u001b[39;00m \u001b[43mgraph_documents\u001b[49m:\n\u001b[0;32m      2\u001b[0m     \u001b[38;5;28mprint\u001b[39m(\u001b[38;5;124m\"\u001b[39m\u001b[38;5;124mDocument:\u001b[39m\u001b[38;5;124m\"\u001b[39m, document)\n\u001b[0;32m      3\u001b[0m     \u001b[38;5;28;01mfor\u001b[39;00m node \u001b[38;5;129;01min\u001b[39;00m document\u001b[38;5;241m.\u001b[39mnodes:\n",
      "\u001b[1;31mNameError\u001b[0m: name 'graph_documents' is not defined"
     ]
    }
   ],
   "source": [
    "for document in graph_documents:\n",
    "    print(\"Document:\", document)\n",
    "    for node in document.nodes:\n",
    "        print(\"Node:\", node)\n",
    "        print(\"Node Labels:\", getattr(node, 'labels', 'No labels attribute'))\n",
    "        print(\"Node Properties:\", node.__dict__)\n"
   ]
  },
  {
   "cell_type": "code",
   "execution_count": 61,
   "metadata": {},
   "outputs": [],
   "source": [
    "def clean_node_labels(node):\n",
    "    \"\"\"Clean and validate node labels.\"\"\"\n",
    "    if hasattr(node, 'labels'):\n",
    "        # Clean the labels by removing None or empty string values\n",
    "        node.labels = [label for label in node.labels if label]\n",
    "    return node\n"
   ]
  },
  {
   "cell_type": "code",
   "execution_count": 62,
   "metadata": {},
   "outputs": [],
   "source": [
    "def validate_node(node):\n",
    "    \"\"\"Check if a node is valid by ensuring it has necessary attributes.\"\"\"\n",
    "    return bool(node.id and node.type)\n",
    "\n",
    "def sanitize_graph_documents(documents):\n",
    "    sanitized_docs = []\n",
    "    for doc in documents:\n",
    "        sanitized_nodes = [clean_node_labels(node) for node in doc.nodes if validate_node(node)]\n",
    "        sanitized_relationships = [\n",
    "            rel for rel in doc.relationships\n",
    "            if validate_node(rel.source) and validate_node(rel.target)\n",
    "        ]\n",
    "        page_content = getattr(doc.source, 'page_content', '')\n",
    "        sanitized_docs.append(Document(\n",
    "            nodes=sanitized_nodes,\n",
    "            relationships=sanitized_relationships,\n",
    "            source=doc.source,\n",
    "            page_content=page_content\n",
    "        ))\n",
    "    return sanitized_docs\n"
   ]
  },
  {
   "cell_type": "code",
   "execution_count": 63,
   "metadata": {},
   "outputs": [],
   "source": [
    "class Document:\n",
    "    def __init__(self, nodes, relationships, source, page_content):\n",
    "        self.nodes = nodes\n",
    "        self.relationships = relationships\n",
    "        self.source = source\n",
    "        self.page_content = page_content\n"
   ]
  },
  {
   "cell_type": "code",
   "execution_count": 64,
   "metadata": {},
   "outputs": [],
   "source": [
    "def get_page_content(source):\n",
    "    # Implement this based on your source structure\n",
    "    return getattr(source, 'page_content', '')\n",
    "\n",
    "def sanitize_graph_documents(documents):\n",
    "    sanitized_docs = []\n",
    "    for doc in documents:\n",
    "        sanitized_nodes = [clean_node_labels(node) for node in doc.nodes if validate_node(node)]\n",
    "        sanitized_relationships = [\n",
    "            rel for rel in doc.relationships\n",
    "            if validate_node(rel.source) and validate_node(rel.target)\n",
    "        ]\n",
    "        page_content = get_page_content(doc.source)\n",
    "        sanitized_docs.append(Document(\n",
    "            nodes=sanitized_nodes,\n",
    "            relationships=sanitized_relationships,\n",
    "            source=doc.source,\n",
    "            page_content=page_content\n",
    "        ))\n",
    "    return sanitized_docs\n"
   ]
  },
  {
   "cell_type": "code",
   "execution_count": 66,
   "metadata": {},
   "outputs": [],
   "source": [
    "try:\n",
    "    sanitized_graph_documents = sanitize_graph_documents(graph_documents)\n",
    "    graph.add_graph_documents(sanitized_graph_documents)\n",
    "except Exception as e:\n",
    "    print(f\"Error: {e}\")\n"
   ]
  },
  {
   "cell_type": "code",
   "execution_count": 117,
   "metadata": {},
   "outputs": [],
   "source": [
    "import json\n",
    "import re\n",
    "from langchain.llms import Ollama\n",
    "\n",
    "model = Ollama(model=\"llama3\")\n",
    "\n",
    "def identify_entities(query):\n",
    "    prompt = (\n",
    "        f\"Identify all entities (people, organizations) in the following text:\\n\\n\"\n",
    "        f\"{query}\\n\\n\"\n",
    "        \"Return only the entity names as a JSON array. Example format:\\n\"\n",
    "        '[\"Entity1\", \"Entity2\", \"Entity3\"]'\n",
    "    )\n",
    "    \n",
    "    response = model.generate([prompt])\n",
    "    \n",
    "    response_text = response.generations[0][0].text.strip()\n",
    "    \n",
    "    print(\"Raw model response:\", response_text)\n",
    "    \n",
    "    json_text = re.search(r'\\[.*?\\]', response_text, re.DOTALL)\n",
    "    \n",
    "    if json_text:\n",
    "        json_text = json_text.group()\n",
    "        try:\n",
    "            entities_json = json.loads(json_text)\n",
    "        except json.JSONDecodeError:\n",
    "            print(\"Error decoding JSON from the extracted text.\")\n",
    "            entities_json = []\n",
    "    else:\n",
    "        print(\"No JSON array found in the response.\")\n",
    "        entities_json = []\n",
    "    \n",
    "    return entities_json\n",
    "\n"
   ]
  },
  {
   "cell_type": "code",
   "execution_count": 118,
   "metadata": {},
   "outputs": [],
   "source": [
    "def find_all_relations(entities):\n",
    "    relations = []\n",
    "\n",
    "    for entity in entities:\n",
    "        query = (\n",
    "            f\"MATCH (e)-[r]-(related) \"\n",
    "            f\"WHERE e.id = '{entity}' \"\n",
    "            f\"RETURN e.id AS entity, type(r) AS relationship, related.id AS related_entity\"\n",
    "        )\n",
    "\n",
    "        try:\n",
    "            result = graph.query(query)\n",
    "            for record in result:\n",
    "                relations.append({\n",
    "                    \"entity\": record[\"entity\"],\n",
    "                    \"relationship\": record[\"relationship\"],\n",
    "                    \"related_entity\": record[\"related_entity\"]\n",
    "                })\n",
    "        except Exception as e:\n",
    "            print(f\"Error executing query for entity '{entity}': {e}\")\n",
    "\n",
    "    return relations\n"
   ]
  },
  {
   "cell_type": "code",
   "execution_count": 119,
   "metadata": {},
   "outputs": [],
   "source": [
    "\n",
    "def display_relations_as_text(relations):\n",
    "    queries = []\n",
    "    for relation in relations:\n",
    "        entity = relation['entity']\n",
    "        relationship = relation['relationship']\n",
    "        related_entity = relation['related_entity']\n",
    "        queries.append(f\"{entity} -> {relationship} -> {related_entity}\")\n",
    "    \n",
    "    # Combine all relations into a single query string\n",
    "    query_string = \" . \".join(queries) + \" . \"\n",
    "    return query_string"
   ]
  },
  {
   "cell_type": "code",
   "execution_count": 120,
   "metadata": {},
   "outputs": [],
   "source": [
    "from langchain.embeddings import HuggingFaceEmbeddings\n"
   ]
  },
  {
   "cell_type": "code",
   "execution_count": 121,
   "metadata": {},
   "outputs": [
    {
     "name": "stderr",
     "output_type": "stream",
     "text": [
      "c:\\Users\\musta\\AppData\\Local\\Programs\\Python\\Python311\\Lib\\site-packages\\langchain_core\\_api\\deprecation.py:139: LangChainDeprecationWarning: The class `HuggingFaceEmbeddings` was deprecated in LangChain 0.2.2 and will be removed in 0.3.0. An updated version of the class exists in the langchain-huggingface package and should be used instead. To use it run `pip install -U langchain-huggingface` and import as `from langchain_huggingface import HuggingFaceEmbeddings`.\n",
      "  warn_deprecated(\n",
      "c:\\Users\\musta\\AppData\\Local\\Programs\\Python\\Python311\\Lib\\site-packages\\sentence_transformers\\cross_encoder\\CrossEncoder.py:11: TqdmWarning: IProgress not found. Please update jupyter and ipywidgets. See https://ipywidgets.readthedocs.io/en/stable/user_install.html\n",
      "  from tqdm.autonotebook import tqdm, trange\n",
      "c:\\Users\\musta\\AppData\\Local\\Programs\\Python\\Python311\\Lib\\site-packages\\threadpoolctl.py:1214: RuntimeWarning: \n",
      "Found Intel OpenMP ('libiomp') and LLVM OpenMP ('libomp') loaded at\n",
      "the same time. Both libraries are known to be incompatible and this\n",
      "can cause random crashes or deadlocks on Linux when loaded in the\n",
      "same Python program.\n",
      "Using threadpoolctl may cause crashes or deadlocks. For more\n",
      "information and possible workarounds, please see\n",
      "    https://github.com/joblib/threadpoolctl/blob/master/multiple_openmp.md\n",
      "\n",
      "  warnings.warn(msg, RuntimeWarning)\n",
      "c:\\Users\\musta\\AppData\\Local\\Programs\\Python\\Python311\\Lib\\site-packages\\huggingface_hub\\file_download.py:1132: FutureWarning: `resume_download` is deprecated and will be removed in version 1.0.0. Downloads always resume when possible. If you want to force a new download, use `force_download=True`.\n",
      "  warnings.warn(\n"
     ]
    }
   ],
   "source": [
    "embedding_model = HuggingFaceEmbeddings(model_name=\"sentence-transformers/all-MiniLM-L6-v2\")\n"
   ]
  },
  {
   "cell_type": "code",
   "execution_count": 122,
   "metadata": {},
   "outputs": [],
   "source": [
    "from langchain_community.vectorstores import Neo4jVector\n"
   ]
  },
  {
   "cell_type": "code",
   "execution_count": 123,
   "metadata": {},
   "outputs": [],
   "source": [
    "db = Neo4jVector.from_documents(\n",
    "    docs, embedding_model, url=NEO4J_URI, username=NEO4J_USERNAME, password=NEO4J_PASSWORD\n",
    ")"
   ]
  },
  {
   "cell_type": "code",
   "execution_count": 40,
   "metadata": {},
   "outputs": [],
   "source": [
    "docs_with_score = db.similarity_search_with_score(query, k=2)"
   ]
  },
  {
   "cell_type": "code",
   "execution_count": 41,
   "metadata": {},
   "outputs": [
    {
     "name": "stdout",
     "output_type": "stream",
     "text": [
      "--------------------------------------------------------------------------------\n",
      "Score:  0.7943490147590637\n",
      "Elizabeth Stuart (19 August 1596 – 13 February 1662) was Electress of the Palatinate and briefly Queen of Bohemia as the wife of Frederick V of the Palatinate. The couple's selection for the crown by the nobles of Bohemia was part of the political and religious turmoil setting off the Thirty Years' War. Since her husband's reign in Bohemia lasted over one winter, she is called \"the Winter Queen\" (German: Die Winterkönigin, Czech: Zimní královna).\n",
      "Princess Elizabeth was the only surviving daughter of James VI and I, King of Scotland, England, and Ireland, and his queen, Anne of Denmark; she was the elder sister of Charles I. Born in Scotland, she was named in honour of her father's predecessor and cousin in England, Elizabeth I.  During Elizabeth Stuart's childhood, unbeknownst to her, part of the failed Gunpowder Plot was a scheme to replace her father with her on the throne, and forcibly raise her as a Catholic.  \n",
      "Her father later arranged for her marriage to the Protestant Frederick V, a senior prince of the Holy Roman Empire.  They were married in the Chapel Royal in the Palace of Whitehall, and then left for his lands in Germany. Their marriage proved successful, but after they left Bohemia they spent years in exile in The Hague, while the Thirty Years' War continued.  In her widowhood, she eventually returned to England, at the end of her own life, during the Stuart Restoration of her nephew, and is buried in Westminster Abbey. \n",
      "With the demise of Elizabeth's great-niece, Anne, Queen of Great Britain, the last Stuart monarch in 1714, Elizabeth's grandson by her daughter Sophia of Hanover succeeded to the British throne as George I, initiating the rule of the House of Hanover.\n",
      "\n",
      "\n",
      "== Early life ==\n",
      "\n",
      "Elizabeth was born at Dunfermline Palace, Fife, on 19 August 1596 at 2 o'clock in the morning. King James rode to the bedside from Callendar, where he was attending the wedding of the Earl of Orkney. At the time of her birth, her father was King of Scotland, but not yet King of England. Named in honour of Elizabeth I of England, her godmother, the young Elizabeth was christened on 28 November 1596 in the Chapel Royal at Holyroodhouse, and was then proclaimed by the heralds as \"Lady Elizabeth\". During her early life in Scotland, Elizabeth was brought up at Linlithgow Palace, where she was placed in the care of Lord Livingstone and his wife, Eleanor Hay. A couple of years later the king's second daughter, Margaret, was placed in their care as well. Elizabeth \"did not pay particular attention to this younger sister\", as even at this young age her affections were with her brother, Henry.\n",
      "\n",
      "\n",
      "=== Move to England ===\n",
      "When Queen Elizabeth I of England died in 1603, Elizabeth Stuart's father, James, succeeded as King of England and Ireland. The Countess of Kildare was appointed the princess's governess. Along with her elder brother, Henry, Elizabeth made the journey southward to England with her mother \"in a triumphal progress of perpetual entertainment\". On her father's birthday, 19 June, Elizabeth danced at Worksop Manor with Robert Cecil's son.\n",
      "Elizabeth remained at court for a few weeks, but \"there is no evidence that she was present at her parents' coronation\" on 25 July 1603. It seems likely that by this time the royal children already had been removed to Oatlands, an old Tudor hunting lodge near Weybridge. There was plague in London, and Prince Henry and Princess Elizabeth were moved to Winchester. Anne of Denmark produced a masque to welcome them. On 19 October 1603 \"an order was issued under the privy seal announcing that the King had thought fit to commit the keeping and education of the Lady Elizabeth to the Lord Harrington [sic] and his wife\".\n",
      "Under the care of Lord and Lady Harington at Coombe Abbey, Elizabeth met Anne Dudley, with whom she was to strike up a lifelong friendship. On 3 April 1604, Princess Elizabeth and her ladies rode from Coombe Abbey to Coventry. The Mayor and Aldermen met her at \"Jabet's Ash on Stoke-green\".\n",
      "--------------------------------------------------------------------------------\n",
      "--------------------------------------------------------------------------------\n",
      "Score:  0.7854622602462769\n",
      "Elizabeth I is a two-part 2005 British-American historical drama television serial directed by Tom Hooper, written by Nigel Williams, and starring Helen Mirren as Elizabeth I of England. The drama covers approximately the last 24 years of her nearly 45-year reign.  Part 1 focuses on the final years of her relationship with the Earl of Leicester, played by Jeremy Irons.  Part 2 focuses on her subsequent relationship with the Earl of Essex, played by Hugh Dancy.\n",
      "The series originally was broadcast in the United Kingdom in two two-hour segments on Channel 4. It later aired on HBO in the United States, CBC and TMN in Canada, ATV in Hong Kong, ABC in Australia, and TVNZ Television One in New Zealand.\n",
      "The series went on to win Emmy, Peabody, and Golden Globe Awards.\n",
      "\n",
      "\n",
      "== Plot ==\n",
      "\n",
      "\n",
      "=== Part 1 ===\n",
      "In 1579, Elizabeth I refuses to marry. Her chief advisor, Lord Burghley, and her spymaster, Francis Walsingham, plan to have her wed the Duke of Anjou in order to cement an English-French alliance against Spain while her favourite, the Earl of Leicester, opposes the plan due to his own long-standing affections for her. Upon arriving in England, the Duke meets and courts Elizabeth, gaining her favour. She angrily banishes Leicester from court when she learns he is married and decides not to marry the Duke due to negative popular opinion towards the match.\n",
      "Seven years later, Elizabeth welcomes Leicester back. Walsingham gathers evidence to prove that Elizabeth's Catholic cousin Mary, Queen of Scots is plotting to have her killed. Elizabeth is reluctant to have Mary executed because of the war it might ignite between England and Spain. During a secret meeting at her prison, Mary gives Elizabeth her word that she does not want her dead. Elizabeth hesitantly gives Leicester command of the English campaign to assist the Dutch against Spain, which fails, giving Spain control of Holland.  Once it is proven that Mary has in fact been conspiring against Elizabeth's life, Mary is judged guilty of treason and executed.\n",
      "After negotiations between England and Spain fail, a fleet of Spanish ships are sent for England.  Elizabeth gives Leicester command of the land forces and rides with him and his stepson the Earl of Essex to Tilbury, where they expect the Spanish to attempt a landing and where Elizabeth delivers a speech to the troops.  The Spanish Armada is ultimately defeated, but Leicester falls gravely ill just as they learn of the English victory.  Later, on his deathbed, Leicester bids Essex to take care of Elizabeth.\n",
      "\n",
      "\n",
      "=== Part 2 ===\n",
      "By 1589, Elizabeth has made a favourite of Essex and falls in love with him.  She is openly outraged when he takes part in an English military expedition to Lisbon against her wishes, but she forgives him in spite of his failure to take the city from the Spanish.  She grants him 10 percent of a tax on sweet wines and a seat on the Privy Council, of which Lord Burghley's son Robert Cecil was also recently made a member.  Essex and Cecil develop a rivalry, as illustrated by the affair of Elizabeth's physician Dr. Lopez, who is hanged based on evidence brought forth by Essex of his participation in a Spanish plot against Elizabeth, evidence proven questionable after the fact by Cecil.\n",
      "Essex's political ambitions begin to clash with his devotion and loyalty to Elizabeth.  As Elizabeth finds her young lover's behavior becoming increasingly worrisome, she draws closer to Cecil, who is named Secretary of State following the death of Walsingham.  Essex is publicly hailed upon his return to England after taking Cadiz from the Spanish, but his relationship with Elizabeth begins to deteriorate.  She and Cecil suspect Essex of secretly communicating with James VI of Scotland, son of Mary, Queen of Scots, a potential successor to the English throne.  After Burghley's death, Elizabeth sends Essex to Ireland to put down a rebellion but he instead makes a truce and returns to England alone.  Elizabeth puts Essex under house arrest.\n",
      "Es\n",
      "--------------------------------------------------------------------------------\n"
     ]
    }
   ],
   "source": [
    "for doc, score in docs_with_score:\n",
    "    print(\"-\" * 80)\n",
    "    print(\"Score: \", score)\n",
    "    print(doc.page_content)\n",
    "    print(\"-\" * 80)"
   ]
  },
  {
   "cell_type": "code",
   "execution_count": 124,
   "metadata": {},
   "outputs": [],
   "source": [
    "from langchain.prompts import PromptTemplate\n",
    "\n",
    "template = \"\"\"\n",
    "You are an AI trained to analyze and interpret text data. Given the following query and the related documents, please provide a detailed and insightful response.\n",
    "give concise answer. I give you multiple documents from my knowledege base and relations from graph give concise answer related to my context whhich i pick from db . dont mention based on provided query only give summary of my documets and relation accordig to my query\n",
    "dont mention that info is retrieved from that document. if there is no related information of query in relation and documents directly say i dont know. else proceed if founf any details.\n",
    "Query: {query}\n",
    "\n",
    "Related Documents:\n",
    "{docs}\n",
    "\n",
    "Relations:\n",
    "{relations}\n",
    "\n",
    "Response:\n",
    "\"\"\"\n",
    "prompt_template = PromptTemplate(\n",
    "    input_variables=[\"query\", \"docs\", \"relations\"],\n",
    "    template=template\n",
    ")\n"
   ]
  },
  {
   "cell_type": "code",
   "execution_count": 125,
   "metadata": {},
   "outputs": [
    {
     "name": "stdout",
     "output_type": "stream",
     "text": [
      "Raw model response: Here is the list of entities mentioned in the text:\n",
      "\n",
      "[\"Elizabeth I\"]\n",
      "\n",
      "Note: There is only one person mentioned in the text, which is Queen Elizabeth I.\n"
     ]
    }
   ],
   "source": [
    "\n",
    "query = \"which house did Elizabeth I belongs to?\"\n",
    "# Fetch similarity search results\n",
    "entitites = identify_entities(query)\n",
    "\n",
    "docs_with_score = db.similarity_search_with_score(query, k=2)\n",
    "\n",
    "summaries = [doc[0].metadata['summary'] for doc in docs_with_score]\n",
    "\n",
    "\n",
    "relations = find_all_relations(entitites)\n",
    "# Define relations as text\n",
    "\n",
    "relations_text = display_relations_as_text(relations)\n",
    "\n",
    "# Format the prompt input\n",
    "prompt_input = prompt_template.format(\n",
    "    query=query,\n",
    "    docs=summaries,\n",
    "    relations=relations_text\n",
    ")\n"
   ]
  },
  {
   "cell_type": "code",
   "execution_count": 126,
   "metadata": {},
   "outputs": [
    {
     "data": {
      "text/plain": [
       "['Elizabeth I']"
      ]
     },
     "execution_count": 126,
     "metadata": {},
     "output_type": "execute_result"
    }
   ],
   "source": [
    "entitites"
   ]
  },
  {
   "cell_type": "code",
   "execution_count": 127,
   "metadata": {},
   "outputs": [
    {
     "data": {
      "text/plain": [
       "['Elizabeth Stuart (19 August 1596 – 13 February 1662) was Electress of the Palatinate and briefly Queen of Bohemia as the wife of Frederick V of the Palatinate. The couple\\'s selection for the crown by the nobles of Bohemia was part of the political and religious turmoil setting off the Thirty Years\\' War. Since her husband\\'s reign in Bohemia lasted over one winter, she is called \"the Winter Queen\" (German: Die Winterkönigin, Czech: Zimní královna).\\nPrincess Elizabeth was the only surviving daughter of James VI and I, King of Scotland, England, and Ireland, and his queen, Anne of Denmark; she was the elder sister of Charles I. Born in Scotland, she was named in honour of her father\\'s predecessor and cousin in England, Elizabeth I.  During Elizabeth Stuart\\'s childhood, unbeknownst to her, part of the failed Gunpowder Plot was a scheme to replace her father with her on the throne, and forcibly raise her as a Catholic.  \\nHer father later arranged for her marriage to the Protestant Frederick V, a senior prince of the Holy Roman Empire.  They were married in the Chapel Royal in the Palace of Whitehall, and then left for his lands in Germany. Their marriage proved successful, but after they left Bohemia they spent years in exile in The Hague, while the Thirty Years\\' War continued.  In her widowhood, she eventually returned to England, at the end of her own life, during the Stuart Restoration of her nephew, and is buried in Westminster Abbey. \\nWith the demise of Elizabeth\\'s great-niece, Anne, Queen of Great Britain, the last Stuart monarch in 1714, Elizabeth\\'s grandson by her daughter Sophia of Hanover succeeded to the British throne as George I, initiating the rule of the House of Hanover.',\n",
       " 'Elizabeth I (7 September 1533 – 24 March 1603) was Queen of England and Ireland from 17 November 1558 until her death in 1603. She was the last monarch of the House of Tudor.\\nElizabeth was the only surviving child of Henry VIII and his second wife, Anne Boleyn. When Elizabeth was two years old, her parents\\' marriage was annulled, her mother was executed, and Elizabeth was declared illegitimate. Henry restored her to the line of succession when she was 10, via the Third Succession Act 1543. After Henry\\'s death in 1547, Elizabeth\\'s younger half-brother Edward VI ruled until his own death in 1553, bequeathing the crown to a Protestant cousin, Lady Jane Grey, and ignoring the claims of his two half-sisters, the Catholic Mary and the younger Elizabeth, in spite of statutes to the contrary. Edward\\'s will was set aside within weeks of his death and Mary became queen, deposing and executing Jane. During Mary\\'s reign, Elizabeth was imprisoned for nearly a year on suspicion of supporting Protestant rebels.\\nUpon her half-sister\\'s death in 1558, Elizabeth succeeded to the throne and set out to rule by good counsel. She depended heavily on a group of trusted advisers led by William Cecil, whom she created Baron Burghley. One of her first actions as queen was the establishment of an English Protestant church, of which she became the supreme governor. This era, later named the Elizabethan Religious Settlement, would evolve into the Church of England. It was expected that Elizabeth would marry and produce an heir; however, despite numerous courtships, she never did, and because of this she is sometimes referred to as the \"Virgin Queen\". She was eventually succeeded by her first cousin twice removed, James VI of Scotland, the son of Mary, Queen of Scots.\\nIn government, Elizabeth was more moderate than her father and siblings had been. One of her mottoes was video et taceo (\"I see and keep silent\"). In religion, she was relatively tolerant and avoided systematic persecution. After the pope declared her illegitimate in 1570, which in theory released English Catholics from allegiance to her, several conspiracies threatened her life, all of which were defeated with the help of her ministers\\' secret service, run by Sir Francis Walsingham. Elizabeth was cautious in foreign affairs, manoeuvring between the major powers of France and Spain. She half-heartedly supported a number of ineffective, poorly resourced military campaigns in the Netherlands, France, and Ireland. By the mid-1580s, England could no longer avoid war with Spain.\\nAs she grew older, Elizabeth became celebrated for her virginity. A cult of personality grew around her which was celebrated in the portraits, pageants, and literature of the day. Elizabeth\\'s reign became known as the Elizabethan era. The period is famous for the flourishing of English drama, led by playwrights such as William Shakespeare and Christopher Marlowe, the prowess of English maritime adventurers, such as Francis Drake and Walter Raleigh, and for the defeat of the Spanish Armada. Some historians depict Elizabeth as a short-tempered, sometimes indecisive ruler, who enjoyed more than her fair share of luck. Towards the end of her reign, a series of economic and military problems weakened her popularity. Elizabeth is acknowledged as a charismatic performer (\"Gloriana\") and a dogged survivor (\"Good Queen Bess\") in an era when government was ramshackle and limited, and when monarchs in neighbouring countries faced internal problems that jeopardised their thrones. After the short, disastrous reigns of her half-siblings, her 44 years on the throne provided welcome stability for the kingdom and helped to forge a sense of national identity.']"
      ]
     },
     "execution_count": 127,
     "metadata": {},
     "output_type": "execute_result"
    }
   ],
   "source": [
    "summaries"
   ]
  },
  {
   "cell_type": "code",
   "execution_count": 128,
   "metadata": {},
   "outputs": [
    {
     "data": {
      "text/plain": [
       "[(Document(metadata={'summary': 'Elizabeth Stuart (19 August 1596 – 13 February 1662) was Electress of the Palatinate and briefly Queen of Bohemia as the wife of Frederick V of the Palatinate. The couple\\'s selection for the crown by the nobles of Bohemia was part of the political and religious turmoil setting off the Thirty Years\\' War. Since her husband\\'s reign in Bohemia lasted over one winter, she is called \"the Winter Queen\" (German: Die Winterkönigin, Czech: Zimní královna).\\nPrincess Elizabeth was the only surviving daughter of James VI and I, King of Scotland, England, and Ireland, and his queen, Anne of Denmark; she was the elder sister of Charles I. Born in Scotland, she was named in honour of her father\\'s predecessor and cousin in England, Elizabeth I.  During Elizabeth Stuart\\'s childhood, unbeknownst to her, part of the failed Gunpowder Plot was a scheme to replace her father with her on the throne, and forcibly raise her as a Catholic.  \\nHer father later arranged for her marriage to the Protestant Frederick V, a senior prince of the Holy Roman Empire.  They were married in the Chapel Royal in the Palace of Whitehall, and then left for his lands in Germany. Their marriage proved successful, but after they left Bohemia they spent years in exile in The Hague, while the Thirty Years\\' War continued.  In her widowhood, she eventually returned to England, at the end of her own life, during the Stuart Restoration of her nephew, and is buried in Westminster Abbey. \\nWith the demise of Elizabeth\\'s great-niece, Anne, Queen of Great Britain, the last Stuart monarch in 1714, Elizabeth\\'s grandson by her daughter Sophia of Hanover succeeded to the British throne as George I, initiating the rule of the House of Hanover.', 'title': 'Elizabeth Stuart, Queen of Bohemia', 'source': 'https://en.wikipedia.org/wiki/Elizabeth_Stuart,_Queen_of_Bohemia'}, page_content='Elizabeth Stuart (19 August 1596 – 13 February 1662) was Electress of the Palatinate and briefly Queen of Bohemia as the wife of Frederick V of the Palatinate. The couple\\'s selection for the crown by the nobles of Bohemia was part of the political and religious turmoil setting off the Thirty Years\\' War. Since her husband\\'s reign in Bohemia lasted over one winter, she is called \"the Winter Queen\" (German: Die Winterkönigin, Czech: Zimní královna).\\nPrincess Elizabeth was the only surviving daughter of James VI and I, King of Scotland, England, and Ireland, and his queen, Anne of Denmark; she was the elder sister of Charles I. Born in Scotland, she was named in honour of her father\\'s predecessor and cousin in England, Elizabeth I.  During Elizabeth Stuart\\'s childhood, unbeknownst to her, part of the failed Gunpowder Plot was a scheme to replace her father with her on the throne, and forcibly raise her as a Catholic.  \\nHer father later arranged for her marriage to the Protestant Frederick V, a senior prince of the Holy Roman Empire.  They were married in the Chapel Royal in the Palace of Whitehall, and then left for his lands in Germany. Their marriage proved successful, but after they left Bohemia they spent years in exile in The Hague, while the Thirty Years\\' War continued.  In her widowhood, she eventually returned to England, at the end of her own life, during the Stuart Restoration of her nephew, and is buried in Westminster Abbey. \\nWith the demise of Elizabeth\\'s great-niece, Anne, Queen of Great Britain, the last Stuart monarch in 1714, Elizabeth\\'s grandson by her daughter Sophia of Hanover succeeded to the British throne as George I, initiating the rule of the House of Hanover.\\n\\n\\n== Early life ==\\n\\nElizabeth was born at Dunfermline Palace, Fife, on 19 August 1596 at 2 o\\'clock in the morning. King James rode to the bedside from Callendar, where he was attending the wedding of the Earl of Orkney. At the time of her birth, her father was King of Scotland, but not yet King of England. Named in honour of Elizabeth I of England, her godmother, the young Elizabeth was christened on 28 November 1596 in the Chapel Royal at Holyroodhouse, and was then proclaimed by the heralds as \"Lady Elizabeth\". During her early life in Scotland, Elizabeth was brought up at Linlithgow Palace, where she was placed in the care of Lord Livingstone and his wife, Eleanor Hay. A couple of years later the king\\'s second daughter, Margaret, was placed in their care as well. Elizabeth \"did not pay particular attention to this younger sister\", as even at this young age her affections were with her brother, Henry.\\n\\n\\n=== Move to England ===\\nWhen Queen Elizabeth I of England died in 1603, Elizabeth Stuart\\'s father, James, succeeded as King of England and Ireland. The Countess of Kildare was appointed the princess\\'s governess. Along with her elder brother, Henry, Elizabeth made the journey southward to England with her mother \"in a triumphal progress of perpetual entertainment\". On her father\\'s birthday, 19 June, Elizabeth danced at Worksop Manor with Robert Cecil\\'s son.\\nElizabeth remained at court for a few weeks, but \"there is no evidence that she was present at her parents\\' coronation\" on 25 July 1603. It seems likely that by this time the royal children already had been removed to Oatlands, an old Tudor hunting lodge near Weybridge. There was plague in London, and Prince Henry and Princess Elizabeth were moved to Winchester. Anne of Denmark produced a masque to welcome them. On 19 October 1603 \"an order was issued under the privy seal announcing that the King had thought fit to commit the keeping and education of the Lady Elizabeth to the Lord Harrington [sic] and his wife\".\\nUnder the care of Lord and Lady Harington at Coombe Abbey, Elizabeth met Anne Dudley, with whom she was to strike up a lifelong friendship. On 3 April 1604, Princess Elizabeth and her ladies rode from Coombe Abbey to Coventry. The Mayor and Aldermen met her at \"Jabet\\'s Ash on Stoke-green\".'),\n",
       "  0.7804134488105774),\n",
       " (Document(metadata={'summary': 'Elizabeth I (7 September 1533 – 24 March 1603) was Queen of England and Ireland from 17 November 1558 until her death in 1603. She was the last monarch of the House of Tudor.\\nElizabeth was the only surviving child of Henry VIII and his second wife, Anne Boleyn. When Elizabeth was two years old, her parents\\' marriage was annulled, her mother was executed, and Elizabeth was declared illegitimate. Henry restored her to the line of succession when she was 10, via the Third Succession Act 1543. After Henry\\'s death in 1547, Elizabeth\\'s younger half-brother Edward VI ruled until his own death in 1553, bequeathing the crown to a Protestant cousin, Lady Jane Grey, and ignoring the claims of his two half-sisters, the Catholic Mary and the younger Elizabeth, in spite of statutes to the contrary. Edward\\'s will was set aside within weeks of his death and Mary became queen, deposing and executing Jane. During Mary\\'s reign, Elizabeth was imprisoned for nearly a year on suspicion of supporting Protestant rebels.\\nUpon her half-sister\\'s death in 1558, Elizabeth succeeded to the throne and set out to rule by good counsel. She depended heavily on a group of trusted advisers led by William Cecil, whom she created Baron Burghley. One of her first actions as queen was the establishment of an English Protestant church, of which she became the supreme governor. This era, later named the Elizabethan Religious Settlement, would evolve into the Church of England. It was expected that Elizabeth would marry and produce an heir; however, despite numerous courtships, she never did, and because of this she is sometimes referred to as the \"Virgin Queen\". She was eventually succeeded by her first cousin twice removed, James VI of Scotland, the son of Mary, Queen of Scots.\\nIn government, Elizabeth was more moderate than her father and siblings had been. One of her mottoes was video et taceo (\"I see and keep silent\"). In religion, she was relatively tolerant and avoided systematic persecution. After the pope declared her illegitimate in 1570, which in theory released English Catholics from allegiance to her, several conspiracies threatened her life, all of which were defeated with the help of her ministers\\' secret service, run by Sir Francis Walsingham. Elizabeth was cautious in foreign affairs, manoeuvring between the major powers of France and Spain. She half-heartedly supported a number of ineffective, poorly resourced military campaigns in the Netherlands, France, and Ireland. By the mid-1580s, England could no longer avoid war with Spain.\\nAs she grew older, Elizabeth became celebrated for her virginity. A cult of personality grew around her which was celebrated in the portraits, pageants, and literature of the day. Elizabeth\\'s reign became known as the Elizabethan era. The period is famous for the flourishing of English drama, led by playwrights such as William Shakespeare and Christopher Marlowe, the prowess of English maritime adventurers, such as Francis Drake and Walter Raleigh, and for the defeat of the Spanish Armada. Some historians depict Elizabeth as a short-tempered, sometimes indecisive ruler, who enjoyed more than her fair share of luck. Towards the end of her reign, a series of economic and military problems weakened her popularity. Elizabeth is acknowledged as a charismatic performer (\"Gloriana\") and a dogged survivor (\"Good Queen Bess\") in an era when government was ramshackle and limited, and when monarchs in neighbouring countries faced internal problems that jeopardised their thrones. After the short, disastrous reigns of her half-siblings, her 44 years on the throne provided welcome stability for the kingdom and helped to forge a sense of national identity.', 'title': 'Elizabeth I', 'source': 'https://en.wikipedia.org/wiki/Elizabeth_I'}, page_content='Elizabeth I (7 September 1533 – 24 March 1603) was Queen of England and Ireland from 17 November 1558 until her death in 1603. She was the last monarch of the House of Tudor.\\nElizabeth was the only surviving child of Henry VIII and his second wife, Anne Boleyn. When Elizabeth was two years old, her parents\\' marriage was annulled, her mother was executed, and Elizabeth was declared illegitimate. Henry restored her to the line of succession when she was 10, via the Third Succession Act 1543. After Henry\\'s death in 1547, Elizabeth\\'s younger half-brother Edward VI ruled until his own death in 1553, bequeathing the crown to a Protestant cousin, Lady Jane Grey, and ignoring the claims of his two half-sisters, the Catholic Mary and the younger Elizabeth, in spite of statutes to the contrary. Edward\\'s will was set aside within weeks of his death and Mary became queen, deposing and executing Jane. During Mary\\'s reign, Elizabeth was imprisoned for nearly a year on suspicion of supporting Protestant rebels.\\nUpon her half-sister\\'s death in 1558, Elizabeth succeeded to the throne and set out to rule by good counsel. She depended heavily on a group of trusted advisers led by William Cecil, whom she created Baron Burghley. One of her first actions as queen was the establishment of an English Protestant church, of which she became the supreme governor. This era, later named the Elizabethan Religious Settlement, would evolve into the Church of England. It was expected that Elizabeth would marry and produce an heir; however, despite numerous courtships, she never did, and because of this she is sometimes referred to as the \"Virgin Queen\". She was eventually succeeded by her first cousin twice removed, James VI of Scotland, the son of Mary, Queen of Scots.\\nIn government, Elizabeth was more moderate than her father and siblings had been. One of her mottoes was video et taceo (\"I see and keep silent\"). In religion, she was relatively tolerant and avoided systematic persecution. After the pope declared her illegitimate in 1570, which in theory released English Catholics from allegiance to her, several conspiracies threatened her life, all of which were defeated with the help of her ministers\\' secret service, run by Sir Francis Walsingham. Elizabeth was cautious in foreign affairs, manoeuvring between the major powers of France and Spain. She half-heartedly supported a number of ineffective, poorly resourced military campaigns in the Netherlands, France, and Ireland. By the mid-1580s, England could no longer avoid war with Spain.\\nAs she grew older, Elizabeth became celebrated for her virginity. A cult of personality grew around her which was celebrated in the portraits, pageants, and literature of the day. Elizabeth\\'s reign became known as the Elizabethan era. The period is famous for the flourishing of English drama, led by playwrights such as William Shakespeare and Christopher Marlowe, the prowess of English maritime adventurers, such as Francis Drake and Walter Raleigh, and for the defeat of the Spanish Armada. Some historians depict Elizabeth as a short-tempered, sometimes indecisive ruler, who enjoyed more than her fair share of luck. Towards the end of her reign, a series of economic and military problems weakened her popularity. Elizabeth is acknowledged as a charismatic performer (\"Gloriana\") and a dogged survivor (\"Good Queen Bess\") in an era when government was ramshackle and limited, and when monarchs in neighbouring countries faced internal problems that jeopardised their thrones. After the short, disastrous reigns of her half-siblings, her 44 years on the throne provided welcome stability for the kingdom and helped to forge a sense of national identity.\\n\\n\\n== Early life ==\\n\\nElizabeth was born at Greenwich Palace on 7 September 1533 and was named after her grandmothers, Elizabeth of York and Lady Elizabeth Howard. She was the second child of Henry VIII of England born in wedlock to survive infancy. Her mother was Henry\\'s second wife, Ann'),\n",
       "  0.7759975790977478)]"
      ]
     },
     "execution_count": 128,
     "metadata": {},
     "output_type": "execute_result"
    }
   ],
   "source": [
    "docs_with_score"
   ]
  },
  {
   "cell_type": "code",
   "execution_count": 130,
   "metadata": {},
   "outputs": [
    {
     "data": {
      "text/plain": [
       "'Elizabeth I -> WAS_QUEEN_OF -> England and Ireland . Elizabeth I -> DIED_IN -> 1603 . Elizabeth I -> REIGNED_FROM -> 17 November 1558 . '"
      ]
     },
     "execution_count": 130,
     "metadata": {},
     "output_type": "execute_result"
    }
   ],
   "source": [
    "relations_text"
   ]
  },
  {
   "cell_type": "code",
   "execution_count": 131,
   "metadata": {},
   "outputs": [
    {
     "name": "stderr",
     "output_type": "stream",
     "text": [
      "c:\\Users\\musta\\AppData\\Local\\Programs\\Python\\Python311\\Lib\\site-packages\\langchain_core\\_api\\deprecation.py:139: LangChainDeprecationWarning: The method `BaseLLM.__call__` was deprecated in langchain-core 0.1.7 and will be removed in 0.3.0. Use invoke instead.\n",
      "  warn_deprecated(\n"
     ]
    }
   ],
   "source": [
    "response = model(prompt_input)"
   ]
  },
  {
   "cell_type": "code",
   "execution_count": 132,
   "metadata": {},
   "outputs": [
    {
     "name": "stdout",
     "output_type": "stream",
     "text": [
      "Elizabeth I belonged to the House of Tudor.\n"
     ]
    }
   ],
   "source": [
    "print(response)"
   ]
  },
  {
   "cell_type": "code",
   "execution_count": null,
   "metadata": {},
   "outputs": [],
   "source": [
    "# complete"
   ]
  },
  {
   "cell_type": "code",
   "execution_count": null,
   "metadata": {},
   "outputs": [],
   "source": []
  }
 ],
 "metadata": {
  "kernelspec": {
   "display_name": "Python 3",
   "language": "python",
   "name": "python3"
  },
  "language_info": {
   "codemirror_mode": {
    "name": "ipython",
    "version": 3
   },
   "file_extension": ".py",
   "mimetype": "text/x-python",
   "name": "python",
   "nbconvert_exporter": "python",
   "pygments_lexer": "ipython3",
   "version": "3.11.3"
  }
 },
 "nbformat": 4,
 "nbformat_minor": 2
}
