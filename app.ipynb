{
 "cells": [
  {
   "cell_type": "code",
   "execution_count": 30,
   "metadata": {},
   "outputs": [],
   "source": [
    "# Wait 60 seconds before connecting using these details, or login to https://console.neo4j.io to validate the Aura Instance is available\n",
    "NEO4J_URI=\"neo4j+s://f2a9c169.databases.neo4j.io\"\n",
    "NEO4J_USERNAME=\"neo4j\"\n",
    "NEO4J_PASSWORD=\"wakSwADnPJZxg-Lyq3wEr_aAkPCdcM1H3Bkqc5njEoY\"\n",
    "AURA_INSTANCEID=\"f2a9c169\"\n",
    "AURA_INSTANCENAME=\"Instance01\"\n"
   ]
  },
  {
   "cell_type": "code",
   "execution_count": 31,
   "metadata": {},
   "outputs": [],
   "source": [
    "from langchain_community.graphs import Neo4jGraph\n"
   ]
  },
  {
   "cell_type": "code",
   "execution_count": 32,
   "metadata": {},
   "outputs": [],
   "source": [
    "graph = Neo4jGraph(\n",
    "    url=NEO4J_URI,\n",
    "    username=NEO4J_USERNAME,\n",
    "    password=NEO4J_PASSWORD\n",
    ")\n"
   ]
  },
  {
   "cell_type": "code",
   "execution_count": 33,
   "metadata": {},
   "outputs": [],
   "source": [
    "from langchain.document_loaders import WikipediaLoader\n"
   ]
  },
  {
   "cell_type": "code",
   "execution_count": 34,
   "metadata": {},
   "outputs": [
    {
     "name": "stderr",
     "output_type": "stream",
     "text": [
      "c:\\Users\\musta\\AppData\\Local\\Programs\\Python\\Python311\\Lib\\site-packages\\wikipedia\\wikipedia.py:389: GuessedAtParserWarning: No parser was explicitly specified, so I'm using the best available HTML parser for this system (\"lxml\"). This usually isn't a problem, but if you run this code on another system, or in a different virtual environment, it may use a different parser and behave differently.\n",
      "\n",
      "The code that caused this warning is on line 389 of the file c:\\Users\\musta\\AppData\\Local\\Programs\\Python\\Python311\\Lib\\site-packages\\wikipedia\\wikipedia.py. To get rid of this warning, pass the additional argument 'features=\"lxml\"' to the BeautifulSoup constructor.\n",
      "\n",
      "  lis = BeautifulSoup(html).find_all('li')\n"
     ]
    }
   ],
   "source": [
    "\n",
    "docs = WikipediaLoader(query=\"Elizabeth I\").load()"
   ]
  },
  {
   "cell_type": "code",
   "execution_count": 35,
   "metadata": {},
   "outputs": [
    {
     "data": {
      "text/plain": [
       "23"
      ]
     },
     "execution_count": 35,
     "metadata": {},
     "output_type": "execute_result"
    }
   ],
   "source": [
    "len(docs)\n"
   ]
  },
  {
   "cell_type": "code",
   "execution_count": 36,
   "metadata": {},
   "outputs": [
    {
     "data": {
      "text/plain": [
       "'Elizabeth I (7 September 1533 – 24 March 1603) was Queen of England and Ireland from 17 November 1558 until her death in 1603. She was the last monarch of the House of Tudor.\\nElizabeth was the only surviving child of Henry VIII and his second wife, Anne Boleyn. When Elizabeth was two years old, her parents\\' marriage was annulled, her mother was executed, and Elizabeth was declared illegitimate. Henry restored her to the line of succession when she was 10, via the Third Succession Act 1543. After Henry\\'s death in 1547, Elizabeth\\'s younger half-brother Edward VI ruled until his own death in 1553, bequeathing the crown to a Protestant cousin, Lady Jane Grey, and ignoring the claims of his two half-sisters, the Catholic Mary and the younger Elizabeth, in spite of statutes to the contrary. Edward\\'s will was set aside within weeks of his death and Mary became queen, deposing and executing Jane. During Mary\\'s reign, Elizabeth was imprisoned for nearly a year on suspicion of supporting Protestant rebels.\\nUpon her half-sister\\'s death in 1558, Elizabeth succeeded to the throne and set out to rule by good counsel. She depended heavily on a group of trusted advisers led by William Cecil, whom she created Baron Burghley. One of her first actions as queen was the establishment of an English Protestant church, of which she became the supreme governor. This era, later named the Elizabethan Religious Settlement, would evolve into the Church of England. It was expected that Elizabeth would marry and produce an heir; however, despite numerous courtships, she never did, and because of this she is sometimes referred to as the \"Virgin Queen\". She was eventually succeeded by her first cousin twice removed, James VI of Scotland, the son of Mary, Queen of Scots.\\nIn government, Elizabeth was more moderate than her father and siblings had been. One of her mottoes was video et taceo (\"I see and keep silent\"). In religion, she was relatively tolerant and avoided systematic persecution. After the pope declared her illegitimate in 1570, which in theory released English Catholics from allegiance to her, several conspiracies threatened her life, all of which were defeated with the help of her ministers\\' secret service, run by Sir Francis Walsingham. Elizabeth was cautious in foreign affairs, manoeuvring between the major powers of France and Spain. She half-heartedly supported a number of ineffective, poorly resourced military campaigns in the Netherlands, France, and Ireland. By the mid-1580s, England could no longer avoid war with Spain.\\nAs she grew older, Elizabeth became celebrated for her virginity. A cult of personality grew around her which was celebrated in the portraits, pageants, and literature of the day. Elizabeth\\'s reign became known as the Elizabethan era. The period is famous for the flourishing of English drama, led by playwrights such as William Shakespeare and Christopher Marlowe, the prowess of English maritime adventurers, such as Francis Drake and Walter Raleigh, and for the defeat of the Spanish Armada. Some historians depict Elizabeth as a short-tempered, sometimes indecisive ruler, who enjoyed more than her fair share of luck. Towards the end of her reign, a series of economic and military problems weakened her popularity. Elizabeth is acknowledged as a charismatic performer (\"Gloriana\") and a dogged survivor (\"Good Queen Bess\") in an era when government was ramshackle and limited, and when monarchs in neighbouring countries faced internal problems that jeopardised their thrones. After the short, disastrous reigns of her half-siblings, her 44 years on the throne provided welcome stability for the kingdom and helped to forge a sense of national identity.\\n\\n\\n== Early life ==\\n\\nElizabeth was born at Greenwich Palace on 7 September 1533 and was named after her grandmothers, Elizabeth of York and Lady Elizabeth Howard. She was the second child of Henry VIII of England born in wedlock to survive infancy. Her mother was Henry\\'s second wife, Ann'"
      ]
     },
     "execution_count": 36,
     "metadata": {},
     "output_type": "execute_result"
    }
   ],
   "source": [
    "docs[0].page_content\n",
    "\n"
   ]
  },
  {
   "cell_type": "code",
   "execution_count": 37,
   "metadata": {},
   "outputs": [],
   "source": [
    "from langchain.llms import Ollama"
   ]
  },
  {
   "cell_type": "code",
   "execution_count": 38,
   "metadata": {},
   "outputs": [],
   "source": [
    "model = Ollama(model=\"llama3\")\n"
   ]
  },
  {
   "cell_type": "code",
   "execution_count": 39,
   "metadata": {},
   "outputs": [],
   "source": [
    "from langchain.text_splitter import RecursiveCharacterTextSplitter"
   ]
  },
  {
   "cell_type": "code",
   "execution_count": 40,
   "metadata": {},
   "outputs": [],
   "source": [
    "content = docs[0].page_content"
   ]
  },
  {
   "cell_type": "code",
   "execution_count": 46,
   "metadata": {},
   "outputs": [],
   "source": [
    "text_splitter = RecursiveCharacterTextSplitter(\n",
    "    chunk_size=1000, \n",
    "    chunk_overlap=300 \n",
    ")\n"
   ]
  },
  {
   "cell_type": "code",
   "execution_count": 51,
   "metadata": {},
   "outputs": [],
   "source": [
    "chunks = text_splitter.split_text(content)"
   ]
  },
  {
   "cell_type": "code",
   "execution_count": 52,
   "metadata": {},
   "outputs": [
    {
     "name": "stdout",
     "output_type": "stream",
     "text": [
      "Chunk 1:\n",
      "Elizabeth I (7 September 1533 – 24 March 1603) was Queen of England and Ireland from 17 November 1558 until her death in 1603. She was the last monarch of the House of Tudor.\n",
      "\n",
      "--------------------------------------------------------------------------------\n",
      "\n",
      "Chunk 2:\n",
      "Elizabeth was the only surviving child of Henry VIII and his second wife, Anne Boleyn. When Elizabeth was two years old, her parents' marriage was annulled, her mother was executed, and Elizabeth was declared illegitimate. Henry restored her to the line of succession when she was 10, via the Third Succession Act 1543. After Henry's death in 1547, Elizabeth's younger half-brother Edward VI ruled until his own death in 1553, bequeathing the crown to a Protestant cousin, Lady Jane Grey, and ignoring the claims of his two half-sisters, the Catholic Mary and the younger Elizabeth, in spite of statutes to the contrary. Edward's will was set aside within weeks of his death and Mary became queen, deposing and executing Jane. During Mary's reign, Elizabeth was imprisoned for nearly a year on suspicion of supporting Protestant rebels.\n",
      "\n",
      "--------------------------------------------------------------------------------\n",
      "\n",
      "Chunk 3:\n",
      "Upon her half-sister's death in 1558, Elizabeth succeeded to the throne and set out to rule by good counsel. She depended heavily on a group of trusted advisers led by William Cecil, whom she created Baron Burghley. One of her first actions as queen was the establishment of an English Protestant church, of which she became the supreme governor. This era, later named the Elizabethan Religious Settlement, would evolve into the Church of England. It was expected that Elizabeth would marry and produce an heir; however, despite numerous courtships, she never did, and because of this she is sometimes referred to as the \"Virgin Queen\". She was eventually succeeded by her first cousin twice removed, James VI of Scotland, the son of Mary, Queen of Scots.\n",
      "\n",
      "--------------------------------------------------------------------------------\n",
      "\n",
      "Chunk 4:\n",
      "In government, Elizabeth was more moderate than her father and siblings had been. One of her mottoes was video et taceo (\"I see and keep silent\"). In religion, she was relatively tolerant and avoided systematic persecution. After the pope declared her illegitimate in 1570, which in theory released English Catholics from allegiance to her, several conspiracies threatened her life, all of which were defeated with the help of her ministers' secret service, run by Sir Francis Walsingham. Elizabeth was cautious in foreign affairs, manoeuvring between the major powers of France and Spain. She half-heartedly supported a number of ineffective, poorly resourced military campaigns in the Netherlands, France, and Ireland. By the mid-1580s, England could no longer avoid war with Spain.\n",
      "\n",
      "--------------------------------------------------------------------------------\n",
      "\n",
      "Chunk 5:\n",
      "As she grew older, Elizabeth became celebrated for her virginity. A cult of personality grew around her which was celebrated in the portraits, pageants, and literature of the day. Elizabeth's reign became known as the Elizabethan era. The period is famous for the flourishing of English drama, led by playwrights such as William Shakespeare and Christopher Marlowe, the prowess of English maritime adventurers, such as Francis Drake and Walter Raleigh, and for the defeat of the Spanish Armada. Some historians depict Elizabeth as a short-tempered, sometimes indecisive ruler, who enjoyed more than her fair share of luck. Towards the end of her reign, a series of economic and military problems weakened her popularity. Elizabeth is acknowledged as a charismatic performer (\"Gloriana\") and a dogged survivor (\"Good Queen Bess\") in an era when government was ramshackle and limited, and when monarchs in neighbouring countries faced internal problems that jeopardised their thrones. After the short,\n",
      "\n",
      "--------------------------------------------------------------------------------\n",
      "\n",
      "Chunk 6:\n",
      "her popularity. Elizabeth is acknowledged as a charismatic performer (\"Gloriana\") and a dogged survivor (\"Good Queen Bess\") in an era when government was ramshackle and limited, and when monarchs in neighbouring countries faced internal problems that jeopardised their thrones. After the short, disastrous reigns of her half-siblings, her 44 years on the throne provided welcome stability for the kingdom and helped to forge a sense of national identity.\n",
      "\n",
      "--------------------------------------------------------------------------------\n",
      "\n",
      "Chunk 7:\n",
      "== Early life ==\n",
      "\n",
      "Elizabeth was born at Greenwich Palace on 7 September 1533 and was named after her grandmothers, Elizabeth of York and Lady Elizabeth Howard. She was the second child of Henry VIII of England born in wedlock to survive infancy. Her mother was Henry's second wife, Ann\n",
      "\n",
      "--------------------------------------------------------------------------------\n",
      "\n"
     ]
    }
   ],
   "source": [
    "for i, chunk in enumerate(chunks):\n",
    "    print(f\"Chunk {i + 1}:\")\n",
    "    print(chunk)\n",
    "    print(\"\\n\" + \"-\"*80 + \"\\n\")"
   ]
  },
  {
   "cell_type": "code",
   "execution_count": 53,
   "metadata": {},
   "outputs": [],
   "source": [
    "from langchain.schema import Document"
   ]
  },
  {
   "cell_type": "code",
   "execution_count": 54,
   "metadata": {},
   "outputs": [],
   "source": [
    "from pydantic import ValidationError\n"
   ]
  },
  {
   "cell_type": "code",
   "execution_count": 55,
   "metadata": {},
   "outputs": [],
   "source": [
    "documents = [Document(page_content=chunk) for chunk in chunks]"
   ]
  },
  {
   "cell_type": "code",
   "execution_count": 56,
   "metadata": {},
   "outputs": [],
   "source": [
    "from langchain_experimental.graph_transformers import LLMGraphTransformer\n"
   ]
  },
  {
   "cell_type": "code",
   "execution_count": 57,
   "metadata": {},
   "outputs": [],
   "source": [
    "llm_transformer = LLMGraphTransformer(llm=model)"
   ]
  },
  {
   "cell_type": "code",
   "execution_count": 58,
   "metadata": {},
   "outputs": [
    {
     "name": "stdout",
     "output_type": "stream",
     "text": [
      "nodes=[Node(id='Elizabeth I', type='Person'), Node(id='England and Ireland', type='Location'), Node(id='17 November 1558', type='Date'), Node(id='1603', type='Date')] relationships=[Relationship(source=Node(id='Elizabeth I', type='Person'), target=Node(id='England and Ireland', type='Location'), type='WAS_QUEEN_OF'), Relationship(source=Node(id='Elizabeth I', type='Person'), target=Node(id='1603', type='Date'), type='DIED_IN'), Relationship(source=Node(id='Elizabeth I', type='Person'), target=Node(id='17 November 1558', type='Date'), type='REIGNED_FROM')] source=Document(page_content='Elizabeth I (7 September 1533 – 24 March 1603) was Queen of England and Ireland from 17 November 1558 until her death in 1603. She was the last monarch of the House of Tudor.')\n",
      "nodes=[Node(id='Mary', type='Person'), Node(id='Anne Boleyn', type='Person'), Node(id='Edward VI', type='Person'), Node(id='Lady Jane Grey', type='Person'), Node(id='Henry VIII', type='Person'), Node(id='Elizabeth', type='Person'), Node(id='None', type='None')] relationships=[Relationship(source=Node(id='Elizabeth', type='Person'), target=Node(id='Henry VIII', type='Person'), type='CHILD_OF'), Relationship(source=Node(id='Anne Boleyn', type='Person'), target=Node(id='Elizabeth', type='Person'), type='MOTHER_OF'), Relationship(source=Node(id='Henry VIII', type='Person'), target=Node(id='Anne Boleyn', type='Person'), type='PARENT_OF'), Relationship(source=Node(id='Elizabeth', type='Person'), target=Node(id='None', type='None'), type='DECLARED_ILLEGITIMATE'), Relationship(source=Node(id='Henry VIII', type='Person'), target=Node(id='Elizabeth', type='Person'), type='RESTORED_SUCCESSION'), Relationship(source=Node(id='Edward VI', type='Person'), target=Node(id='None', type='None'), type='RULER_OF'), Relationship(source=Node(id='Lady Jane Grey', type='Person'), target=Node(id='None', type='None'), type='BECAME_QUEEN'), Relationship(source=Node(id='Mary', type='Person'), target=Node(id='Lady Jane Grey', type='Person'), type='DEPOSED_AND_EXECUTED'), Relationship(source=Node(id='Elizabeth', type='Person'), target=Node(id='None', type='None'), type='IMPRISONED')] source=Document(page_content=\"Elizabeth was the only surviving child of Henry VIII and his second wife, Anne Boleyn. When Elizabeth was two years old, her parents' marriage was annulled, her mother was executed, and Elizabeth was declared illegitimate. Henry restored her to the line of succession when she was 10, via the Third Succession Act 1543. After Henry's death in 1547, Elizabeth's younger half-brother Edward VI ruled until his own death in 1553, bequeathing the crown to a Protestant cousin, Lady Jane Grey, and ignoring the claims of his two half-sisters, the Catholic Mary and the younger Elizabeth, in spite of statutes to the contrary. Edward's will was set aside within weeks of his death and Mary became queen, deposing and executing Jane. During Mary's reign, Elizabeth was imprisoned for nearly a year on suspicion of supporting Protestant rebels.\")\n",
      "nodes=[Node(id='James VI of Scotland', type='Person'), Node(id='English Protestant church', type='Organization'), Node(id='Baron Burghley', type='Title'), Node(id='Virgin Queen', type='Nickname'), Node(id='Elizabeth', type='Person'), Node(id='William Cecil', type='Person'), Node(id='throne', type='Position')] relationships=[Relationship(source=Node(id='Elizabeth', type='Person'), target=Node(id='throne', type='Position'), type='SUCCEEDED_TO'), Relationship(source=Node(id='William Cecil', type='Person'), target=Node(id='Elizabeth', type='Person'), type='LED_BY'), Relationship(source=Node(id='Elizabeth', type='Person'), target=Node(id='Baron Burghley', type='Title'), type='CREATED_BARON'), Relationship(source=Node(id='Elizabeth', type='Person'), target=Node(id='English Protestant church', type='Organization'), type='ESTABLISHED'), Relationship(source=Node(id='Elizabeth', type='Person'), target=Node(id='English Protestant church', type='Organization'), type='BECAME_SUPREME_GOVERNOR_OF'), Relationship(source=Node(id='Elizabeth', type='Person'), target=Node(id='Virgin Queen', type='Nickname'), type='REFERRED_TO_AS'), Relationship(source=Node(id='James VI of Scotland', type='Person'), target=Node(id='throne', type='Position'), type='SUCCEEDED_TO')] source=Document(page_content='Upon her half-sister\\'s death in 1558, Elizabeth succeeded to the throne and set out to rule by good counsel. She depended heavily on a group of trusted advisers led by William Cecil, whom she created Baron Burghley. One of her first actions as queen was the establishment of an English Protestant church, of which she became the supreme governor. This era, later named the Elizabethan Religious Settlement, would evolve into the Church of England. It was expected that Elizabeth would marry and produce an heir; however, despite numerous courtships, she never did, and because of this she is sometimes referred to as the \"Virgin Queen\". She was eventually succeeded by her first cousin twice removed, James VI of Scotland, the son of Mary, Queen of Scots.')\n",
      "nodes=[Node(id=\"her ministers' secret service\", type='Organization'), Node(id='Sir Francis Walsingham', type='Person'), Node(id='her father and siblings', type='Group'), Node(id='video et taceo', type='Motto'), Node(id='systematic persecution', type='Concept'), Node(id='England', type='Country'), Node(id='Spain', type='Country'), Node(id='religion', type='Attribute'), Node(id='Elizabeth', type='Person'), Node(id='France and Spain', type='Countries')] relationships=[Relationship(source=Node(id='Elizabeth', type='Person'), target=Node(id='her father and siblings', type='Group'), type='WAS_MORE_MODERATE_THAN'), Relationship(source=Node(id='Elizabeth', type='Person'), target=Node(id='video et taceo', type='Motto'), type='HAD_MOTTO'), Relationship(source=Node(id='Elizabeth', type='Person'), target=Node(id='religion', type='Attribute'), type='WAS_RELATIVELY_TOLERANT'), Relationship(source=Node(id='Elizabeth', type='Person'), target=Node(id='systematic persecution', type='Concept'), type='AVOIDED_SYSTEMATIC_PERSECUTION'), Relationship(source=Node(id='Elizabeth', type='Person'), target=Node(id=\"her ministers' secret service\", type='Organization'), type='WAS_HELPED_BY'), Relationship(source=Node(id='Sir Francis Walsingham', type='Person'), target=Node(id=\"her ministers' secret service\", type='Organization'), type='RUN'), Relationship(source=Node(id='Elizabeth', type='Person'), target=Node(id='France and Spain', type='Countries'), type='MANOEUVRED_BETWEEN'), Relationship(source=Node(id='England', type='Country'), target=Node(id='Spain', type='Country'), type='WAS_INVOLVED_IN_WAR_WITH')] source=Document(page_content='In government, Elizabeth was more moderate than her father and siblings had been. One of her mottoes was video et taceo (\"I see and keep silent\"). In religion, she was relatively tolerant and avoided systematic persecution. After the pope declared her illegitimate in 1570, which in theory released English Catholics from allegiance to her, several conspiracies threatened her life, all of which were defeated with the help of her ministers\\' secret service, run by Sir Francis Walsingham. Elizabeth was cautious in foreign affairs, manoeuvring between the major powers of France and Spain. She half-heartedly supported a number of ineffective, poorly resourced military campaigns in the Netherlands, France, and Ireland. By the mid-1580s, England could no longer avoid war with Spain.')\n",
      "nodes=[Node(id='a charismatic performer and a dogged survivor', type='Description'), Node(id='around her', type='Relationship'), Node(id='her virginity', type='Characteristic'), Node(id='', type=''), Node(id='English drama', type='Field of Study'), Node(id='William Shakespeare', type='Person'), Node(id='Elizabethan era', type='Era'), Node(id='English maritime adventures', type='Field of Study'), Node(id='the flourishing of English drama', type='Field of Study'), Node(id='Francis Drake', type='Person'), Node(id='Christopher Marlowe', type='Person'), Node(id='economic and military problems', type='Characteristic'), Node(id='Elizabeth', type='Person'), Node(id='Walter Raleigh', type='Person'), Node(id='England', type='Location'), Node(id='the Elizabethan era', type='Era')] relationships=[Relationship(source=Node(id='Elizabeth', type='Person'), target=Node(id='her virginity', type='Characteristic'), type='BECAME_CELLEBRATED_FOR'), Relationship(source=Node(id='Elizabeth', type='Person'), target=Node(id='around her', type='Relationship'), type='HAD_CULT_OF_PERSONALITY'), Relationship(source=Node(id='Elizabeth', type='Person'), target=Node(id='England', type='Location'), type='RULED'), Relationship(source=Node(id='Elizabethan era', type='Era'), target=Node(id='', type=''), type='PERIOD_OF_TIME'), Relationship(source=Node(id='English drama', type='Field of Study'), target=Node(id='the Elizabethan era', type='Era'), type='FLOURISHED_DURING'), Relationship(source=Node(id='William Shakespeare', type='Person'), target=Node(id='the flourishing of English drama', type='Field of Study'), type='LED'), Relationship(source=Node(id='Christopher Marlowe', type='Person'), target=Node(id='the flourishing of English drama', type='Field of Study'), type='LED'), Relationship(source=Node(id='Francis Drake', type='Person'), target=Node(id='English maritime adventures', type='Field of Study'), type='EXHIBITED_PROWESS_IN'), Relationship(source=Node(id='Walter Raleigh', type='Person'), target=Node(id='English maritime adventures', type='Field of Study'), type='EXHIBITED_PROWESS_IN'), Relationship(source=Node(id='Elizabeth', type='Person'), target=Node(id='', type=''), type='DEFEATED_THE_SPANISH_ARMADA'), Relationship(source=Node(id='Elizabeth', type='Person'), target=Node(id='economic and military problems', type='Characteristic'), type='HAD_POPULARITY_WEAKENED_BY'), Relationship(source=Node(id='Elizabeth', type='Person'), target=Node(id='a charismatic performer and a dogged survivor', type='Description'), type='WAS_ACKNOWLEDGED_AS')] source=Document(page_content='As she grew older, Elizabeth became celebrated for her virginity. A cult of personality grew around her which was celebrated in the portraits, pageants, and literature of the day. Elizabeth\\'s reign became known as the Elizabethan era. The period is famous for the flourishing of English drama, led by playwrights such as William Shakespeare and Christopher Marlowe, the prowess of English maritime adventurers, such as Francis Drake and Walter Raleigh, and for the defeat of the Spanish Armada. Some historians depict Elizabeth as a short-tempered, sometimes indecisive ruler, who enjoyed more than her fair share of luck. Towards the end of her reign, a series of economic and military problems weakened her popularity. Elizabeth is acknowledged as a charismatic performer (\"Gloriana\") and a dogged survivor (\"Good Queen Bess\") in an era when government was ramshackle and limited, and when monarchs in neighbouring countries faced internal problems that jeopardised their thrones. After the short,')\n",
      "nodes=[Node(id='Gloriana', type='Nickname'), Node(id='kingdom', type='Location'), Node(id='Good Queen Bess', type='Nickname'), Node(id='Elizabeth', type='Person')] relationships=[Relationship(source=Node(id='Elizabeth', type='Person'), target=Node(id='kingdom', type='Location'), type='REIGNS_OVER'), Relationship(source=Node(id='Gloriana', type='Nickname'), target=Node(id='Elizabeth', type='Person'), type='CHARACTERIZED_AS'), Relationship(source=Node(id='Good Queen Bess', type='Nickname'), target=Node(id='Elizabeth', type='Person'), type='CHARACTERIZED_AS')] source=Document(page_content='her popularity. Elizabeth is acknowledged as a charismatic performer (\"Gloriana\") and a dogged survivor (\"Good Queen Bess\") in an era when government was ramshackle and limited, and when monarchs in neighbouring countries faced internal problems that jeopardised their thrones. After the short, disastrous reigns of her half-siblings, her 44 years on the throne provided welcome stability for the kingdom and helped to forge a sense of national identity.')\n",
      "nodes=[Node(id='Elizabeth of York', type='Person'), Node(id='Lady Elizabeth Howard', type='Person'), Node(id='Greenwich Palace', type='Location'), Node(id='Ann', type='Person'), Node(id='Elizabeth', type='Person'), Node(id='Henry VIII of England', type='Person')] relationships=[Relationship(source=Node(id='Elizabeth', type='Person'), target=Node(id='Greenwich Palace', type='Location'), type='BORN_AT'), Relationship(source=Node(id='Elizabeth', type='Person'), target=Node(id='Elizabeth of York', type='Person'), type='NAMED_AFTER'), Relationship(source=Node(id='Elizabeth', type='Person'), target=Node(id='Lady Elizabeth Howard', type='Person'), type='NAMED_AFTER'), Relationship(source=Node(id='Henry VIII of England', type='Person'), target=Node(id='Elizabeth', type='Person'), type='PARENT_OF'), Relationship(source=Node(id='Ann', type='Person'), target=Node(id='Elizabeth', type='Person'), type='MOTHER_OF')] source=Document(page_content=\"== Early life ==\\n\\nElizabeth was born at Greenwich Palace on 7 September 1533 and was named after her grandmothers, Elizabeth of York and Lady Elizabeth Howard. She was the second child of Henry VIII of England born in wedlock to survive infancy. Her mother was Henry's second wife, Ann\")\n"
     ]
    }
   ],
   "source": [
    "try:\n",
    "    graph_documents = llm_transformer.convert_to_graph_documents(documents)\n",
    "    # Print or use graph_documents\n",
    "    for gd in graph_documents:\n",
    "        print(gd)\n",
    "except AttributeError as e:\n",
    "    print(f\"Attribute error: {e}\")\n",
    "except ValidationError as e:\n",
    "    print(f\"Validation error: {e}\")"
   ]
  },
  {
   "cell_type": "code",
   "execution_count": 59,
   "metadata": {},
   "outputs": [
    {
     "data": {
      "text/plain": [
       "[GraphDocument(nodes=[Node(id='Elizabeth I', type='Person'), Node(id='England and Ireland', type='Location'), Node(id='17 November 1558', type='Date'), Node(id='1603', type='Date')], relationships=[Relationship(source=Node(id='Elizabeth I', type='Person'), target=Node(id='England and Ireland', type='Location'), type='WAS_QUEEN_OF'), Relationship(source=Node(id='Elizabeth I', type='Person'), target=Node(id='1603', type='Date'), type='DIED_IN'), Relationship(source=Node(id='Elizabeth I', type='Person'), target=Node(id='17 November 1558', type='Date'), type='REIGNED_FROM')], source=Document(page_content='Elizabeth I (7 September 1533 – 24 March 1603) was Queen of England and Ireland from 17 November 1558 until her death in 1603. She was the last monarch of the House of Tudor.')),\n",
       " GraphDocument(nodes=[Node(id='Mary', type='Person'), Node(id='Anne Boleyn', type='Person'), Node(id='Edward VI', type='Person'), Node(id='Lady Jane Grey', type='Person'), Node(id='Henry VIII', type='Person'), Node(id='Elizabeth', type='Person'), Node(id='None', type='None')], relationships=[Relationship(source=Node(id='Elizabeth', type='Person'), target=Node(id='Henry VIII', type='Person'), type='CHILD_OF'), Relationship(source=Node(id='Anne Boleyn', type='Person'), target=Node(id='Elizabeth', type='Person'), type='MOTHER_OF'), Relationship(source=Node(id='Henry VIII', type='Person'), target=Node(id='Anne Boleyn', type='Person'), type='PARENT_OF'), Relationship(source=Node(id='Elizabeth', type='Person'), target=Node(id='None', type='None'), type='DECLARED_ILLEGITIMATE'), Relationship(source=Node(id='Henry VIII', type='Person'), target=Node(id='Elizabeth', type='Person'), type='RESTORED_SUCCESSION'), Relationship(source=Node(id='Edward VI', type='Person'), target=Node(id='None', type='None'), type='RULER_OF'), Relationship(source=Node(id='Lady Jane Grey', type='Person'), target=Node(id='None', type='None'), type='BECAME_QUEEN'), Relationship(source=Node(id='Mary', type='Person'), target=Node(id='Lady Jane Grey', type='Person'), type='DEPOSED_AND_EXECUTED'), Relationship(source=Node(id='Elizabeth', type='Person'), target=Node(id='None', type='None'), type='IMPRISONED')], source=Document(page_content=\"Elizabeth was the only surviving child of Henry VIII and his second wife, Anne Boleyn. When Elizabeth was two years old, her parents' marriage was annulled, her mother was executed, and Elizabeth was declared illegitimate. Henry restored her to the line of succession when she was 10, via the Third Succession Act 1543. After Henry's death in 1547, Elizabeth's younger half-brother Edward VI ruled until his own death in 1553, bequeathing the crown to a Protestant cousin, Lady Jane Grey, and ignoring the claims of his two half-sisters, the Catholic Mary and the younger Elizabeth, in spite of statutes to the contrary. Edward's will was set aside within weeks of his death and Mary became queen, deposing and executing Jane. During Mary's reign, Elizabeth was imprisoned for nearly a year on suspicion of supporting Protestant rebels.\")),\n",
       " GraphDocument(nodes=[Node(id='James VI of Scotland', type='Person'), Node(id='English Protestant church', type='Organization'), Node(id='Baron Burghley', type='Title'), Node(id='Virgin Queen', type='Nickname'), Node(id='Elizabeth', type='Person'), Node(id='William Cecil', type='Person'), Node(id='throne', type='Position')], relationships=[Relationship(source=Node(id='Elizabeth', type='Person'), target=Node(id='throne', type='Position'), type='SUCCEEDED_TO'), Relationship(source=Node(id='William Cecil', type='Person'), target=Node(id='Elizabeth', type='Person'), type='LED_BY'), Relationship(source=Node(id='Elizabeth', type='Person'), target=Node(id='Baron Burghley', type='Title'), type='CREATED_BARON'), Relationship(source=Node(id='Elizabeth', type='Person'), target=Node(id='English Protestant church', type='Organization'), type='ESTABLISHED'), Relationship(source=Node(id='Elizabeth', type='Person'), target=Node(id='English Protestant church', type='Organization'), type='BECAME_SUPREME_GOVERNOR_OF'), Relationship(source=Node(id='Elizabeth', type='Person'), target=Node(id='Virgin Queen', type='Nickname'), type='REFERRED_TO_AS'), Relationship(source=Node(id='James VI of Scotland', type='Person'), target=Node(id='throne', type='Position'), type='SUCCEEDED_TO')], source=Document(page_content='Upon her half-sister\\'s death in 1558, Elizabeth succeeded to the throne and set out to rule by good counsel. She depended heavily on a group of trusted advisers led by William Cecil, whom she created Baron Burghley. One of her first actions as queen was the establishment of an English Protestant church, of which she became the supreme governor. This era, later named the Elizabethan Religious Settlement, would evolve into the Church of England. It was expected that Elizabeth would marry and produce an heir; however, despite numerous courtships, she never did, and because of this she is sometimes referred to as the \"Virgin Queen\". She was eventually succeeded by her first cousin twice removed, James VI of Scotland, the son of Mary, Queen of Scots.')),\n",
       " GraphDocument(nodes=[Node(id=\"her ministers' secret service\", type='Organization'), Node(id='Sir Francis Walsingham', type='Person'), Node(id='her father and siblings', type='Group'), Node(id='video et taceo', type='Motto'), Node(id='systematic persecution', type='Concept'), Node(id='England', type='Country'), Node(id='Spain', type='Country'), Node(id='religion', type='Attribute'), Node(id='Elizabeth', type='Person'), Node(id='France and Spain', type='Countries')], relationships=[Relationship(source=Node(id='Elizabeth', type='Person'), target=Node(id='her father and siblings', type='Group'), type='WAS_MORE_MODERATE_THAN'), Relationship(source=Node(id='Elizabeth', type='Person'), target=Node(id='video et taceo', type='Motto'), type='HAD_MOTTO'), Relationship(source=Node(id='Elizabeth', type='Person'), target=Node(id='religion', type='Attribute'), type='WAS_RELATIVELY_TOLERANT'), Relationship(source=Node(id='Elizabeth', type='Person'), target=Node(id='systematic persecution', type='Concept'), type='AVOIDED_SYSTEMATIC_PERSECUTION'), Relationship(source=Node(id='Elizabeth', type='Person'), target=Node(id=\"her ministers' secret service\", type='Organization'), type='WAS_HELPED_BY'), Relationship(source=Node(id='Sir Francis Walsingham', type='Person'), target=Node(id=\"her ministers' secret service\", type='Organization'), type='RUN'), Relationship(source=Node(id='Elizabeth', type='Person'), target=Node(id='France and Spain', type='Countries'), type='MANOEUVRED_BETWEEN'), Relationship(source=Node(id='England', type='Country'), target=Node(id='Spain', type='Country'), type='WAS_INVOLVED_IN_WAR_WITH')], source=Document(page_content='In government, Elizabeth was more moderate than her father and siblings had been. One of her mottoes was video et taceo (\"I see and keep silent\"). In religion, she was relatively tolerant and avoided systematic persecution. After the pope declared her illegitimate in 1570, which in theory released English Catholics from allegiance to her, several conspiracies threatened her life, all of which were defeated with the help of her ministers\\' secret service, run by Sir Francis Walsingham. Elizabeth was cautious in foreign affairs, manoeuvring between the major powers of France and Spain. She half-heartedly supported a number of ineffective, poorly resourced military campaigns in the Netherlands, France, and Ireland. By the mid-1580s, England could no longer avoid war with Spain.')),\n",
       " GraphDocument(nodes=[Node(id='a charismatic performer and a dogged survivor', type='Description'), Node(id='around her', type='Relationship'), Node(id='her virginity', type='Characteristic'), Node(id='', type=''), Node(id='English drama', type='Field of Study'), Node(id='William Shakespeare', type='Person'), Node(id='Elizabethan era', type='Era'), Node(id='English maritime adventures', type='Field of Study'), Node(id='the flourishing of English drama', type='Field of Study'), Node(id='Francis Drake', type='Person'), Node(id='Christopher Marlowe', type='Person'), Node(id='economic and military problems', type='Characteristic'), Node(id='Elizabeth', type='Person'), Node(id='Walter Raleigh', type='Person'), Node(id='England', type='Location'), Node(id='the Elizabethan era', type='Era')], relationships=[Relationship(source=Node(id='Elizabeth', type='Person'), target=Node(id='her virginity', type='Characteristic'), type='BECAME_CELLEBRATED_FOR'), Relationship(source=Node(id='Elizabeth', type='Person'), target=Node(id='around her', type='Relationship'), type='HAD_CULT_OF_PERSONALITY'), Relationship(source=Node(id='Elizabeth', type='Person'), target=Node(id='England', type='Location'), type='RULED'), Relationship(source=Node(id='Elizabethan era', type='Era'), target=Node(id='', type=''), type='PERIOD_OF_TIME'), Relationship(source=Node(id='English drama', type='Field of Study'), target=Node(id='the Elizabethan era', type='Era'), type='FLOURISHED_DURING'), Relationship(source=Node(id='William Shakespeare', type='Person'), target=Node(id='the flourishing of English drama', type='Field of Study'), type='LED'), Relationship(source=Node(id='Christopher Marlowe', type='Person'), target=Node(id='the flourishing of English drama', type='Field of Study'), type='LED'), Relationship(source=Node(id='Francis Drake', type='Person'), target=Node(id='English maritime adventures', type='Field of Study'), type='EXHIBITED_PROWESS_IN'), Relationship(source=Node(id='Walter Raleigh', type='Person'), target=Node(id='English maritime adventures', type='Field of Study'), type='EXHIBITED_PROWESS_IN'), Relationship(source=Node(id='Elizabeth', type='Person'), target=Node(id='', type=''), type='DEFEATED_THE_SPANISH_ARMADA'), Relationship(source=Node(id='Elizabeth', type='Person'), target=Node(id='economic and military problems', type='Characteristic'), type='HAD_POPULARITY_WEAKENED_BY'), Relationship(source=Node(id='Elizabeth', type='Person'), target=Node(id='a charismatic performer and a dogged survivor', type='Description'), type='WAS_ACKNOWLEDGED_AS')], source=Document(page_content='As she grew older, Elizabeth became celebrated for her virginity. A cult of personality grew around her which was celebrated in the portraits, pageants, and literature of the day. Elizabeth\\'s reign became known as the Elizabethan era. The period is famous for the flourishing of English drama, led by playwrights such as William Shakespeare and Christopher Marlowe, the prowess of English maritime adventurers, such as Francis Drake and Walter Raleigh, and for the defeat of the Spanish Armada. Some historians depict Elizabeth as a short-tempered, sometimes indecisive ruler, who enjoyed more than her fair share of luck. Towards the end of her reign, a series of economic and military problems weakened her popularity. Elizabeth is acknowledged as a charismatic performer (\"Gloriana\") and a dogged survivor (\"Good Queen Bess\") in an era when government was ramshackle and limited, and when monarchs in neighbouring countries faced internal problems that jeopardised their thrones. After the short,')),\n",
       " GraphDocument(nodes=[Node(id='Gloriana', type='Nickname'), Node(id='kingdom', type='Location'), Node(id='Good Queen Bess', type='Nickname'), Node(id='Elizabeth', type='Person')], relationships=[Relationship(source=Node(id='Elizabeth', type='Person'), target=Node(id='kingdom', type='Location'), type='REIGNS_OVER'), Relationship(source=Node(id='Gloriana', type='Nickname'), target=Node(id='Elizabeth', type='Person'), type='CHARACTERIZED_AS'), Relationship(source=Node(id='Good Queen Bess', type='Nickname'), target=Node(id='Elizabeth', type='Person'), type='CHARACTERIZED_AS')], source=Document(page_content='her popularity. Elizabeth is acknowledged as a charismatic performer (\"Gloriana\") and a dogged survivor (\"Good Queen Bess\") in an era when government was ramshackle and limited, and when monarchs in neighbouring countries faced internal problems that jeopardised their thrones. After the short, disastrous reigns of her half-siblings, her 44 years on the throne provided welcome stability for the kingdom and helped to forge a sense of national identity.')),\n",
       " GraphDocument(nodes=[Node(id='Elizabeth of York', type='Person'), Node(id='Lady Elizabeth Howard', type='Person'), Node(id='Greenwich Palace', type='Location'), Node(id='Ann', type='Person'), Node(id='Elizabeth', type='Person'), Node(id='Henry VIII of England', type='Person')], relationships=[Relationship(source=Node(id='Elizabeth', type='Person'), target=Node(id='Greenwich Palace', type='Location'), type='BORN_AT'), Relationship(source=Node(id='Elizabeth', type='Person'), target=Node(id='Elizabeth of York', type='Person'), type='NAMED_AFTER'), Relationship(source=Node(id='Elizabeth', type='Person'), target=Node(id='Lady Elizabeth Howard', type='Person'), type='NAMED_AFTER'), Relationship(source=Node(id='Henry VIII of England', type='Person'), target=Node(id='Elizabeth', type='Person'), type='PARENT_OF'), Relationship(source=Node(id='Ann', type='Person'), target=Node(id='Elizabeth', type='Person'), type='MOTHER_OF')], source=Document(page_content=\"== Early life ==\\n\\nElizabeth was born at Greenwich Palace on 7 September 1533 and was named after her grandmothers, Elizabeth of York and Lady Elizabeth Howard. She was the second child of Henry VIII of England born in wedlock to survive infancy. Her mother was Henry's second wife, Ann\"))]"
      ]
     },
     "execution_count": 59,
     "metadata": {},
     "output_type": "execute_result"
    }
   ],
   "source": [
    "graph_documents"
   ]
  },
  {
   "cell_type": "code",
   "execution_count": 22,
   "metadata": {},
   "outputs": [],
   "source": [
    "# graph.add_graph_documents(graph_documents)"
   ]
  },
  {
   "cell_type": "code",
   "execution_count": 60,
   "metadata": {},
   "outputs": [
    {
     "name": "stdout",
     "output_type": "stream",
     "text": [
      "Document: nodes=[Node(id='Elizabeth I', type='Person'), Node(id='England and Ireland', type='Location'), Node(id='17 November 1558', type='Date'), Node(id='1603', type='Date')] relationships=[Relationship(source=Node(id='Elizabeth I', type='Person'), target=Node(id='England and Ireland', type='Location'), type='WAS_QUEEN_OF'), Relationship(source=Node(id='Elizabeth I', type='Person'), target=Node(id='1603', type='Date'), type='DIED_IN'), Relationship(source=Node(id='Elizabeth I', type='Person'), target=Node(id='17 November 1558', type='Date'), type='REIGNED_FROM')] source=Document(page_content='Elizabeth I (7 September 1533 – 24 March 1603) was Queen of England and Ireland from 17 November 1558 until her death in 1603. She was the last monarch of the House of Tudor.')\n",
      "Node: id='Elizabeth I' type='Person'\n",
      "Node Labels: No labels attribute\n",
      "Node Properties: {'id': 'Elizabeth I', 'type': 'Person', 'properties': {}}\n",
      "Node: id='England and Ireland' type='Location'\n",
      "Node Labels: No labels attribute\n",
      "Node Properties: {'id': 'England and Ireland', 'type': 'Location', 'properties': {}}\n",
      "Node: id='17 November 1558' type='Date'\n",
      "Node Labels: No labels attribute\n",
      "Node Properties: {'id': '17 November 1558', 'type': 'Date', 'properties': {}}\n",
      "Node: id='1603' type='Date'\n",
      "Node Labels: No labels attribute\n",
      "Node Properties: {'id': '1603', 'type': 'Date', 'properties': {}}\n",
      "Document: nodes=[Node(id='Mary', type='Person'), Node(id='Anne Boleyn', type='Person'), Node(id='Edward VI', type='Person'), Node(id='Lady Jane Grey', type='Person'), Node(id='Henry VIII', type='Person'), Node(id='Elizabeth', type='Person'), Node(id='None', type='None')] relationships=[Relationship(source=Node(id='Elizabeth', type='Person'), target=Node(id='Henry VIII', type='Person'), type='CHILD_OF'), Relationship(source=Node(id='Anne Boleyn', type='Person'), target=Node(id='Elizabeth', type='Person'), type='MOTHER_OF'), Relationship(source=Node(id='Henry VIII', type='Person'), target=Node(id='Anne Boleyn', type='Person'), type='PARENT_OF'), Relationship(source=Node(id='Elizabeth', type='Person'), target=Node(id='None', type='None'), type='DECLARED_ILLEGITIMATE'), Relationship(source=Node(id='Henry VIII', type='Person'), target=Node(id='Elizabeth', type='Person'), type='RESTORED_SUCCESSION'), Relationship(source=Node(id='Edward VI', type='Person'), target=Node(id='None', type='None'), type='RULER_OF'), Relationship(source=Node(id='Lady Jane Grey', type='Person'), target=Node(id='None', type='None'), type='BECAME_QUEEN'), Relationship(source=Node(id='Mary', type='Person'), target=Node(id='Lady Jane Grey', type='Person'), type='DEPOSED_AND_EXECUTED'), Relationship(source=Node(id='Elizabeth', type='Person'), target=Node(id='None', type='None'), type='IMPRISONED')] source=Document(page_content=\"Elizabeth was the only surviving child of Henry VIII and his second wife, Anne Boleyn. When Elizabeth was two years old, her parents' marriage was annulled, her mother was executed, and Elizabeth was declared illegitimate. Henry restored her to the line of succession when she was 10, via the Third Succession Act 1543. After Henry's death in 1547, Elizabeth's younger half-brother Edward VI ruled until his own death in 1553, bequeathing the crown to a Protestant cousin, Lady Jane Grey, and ignoring the claims of his two half-sisters, the Catholic Mary and the younger Elizabeth, in spite of statutes to the contrary. Edward's will was set aside within weeks of his death and Mary became queen, deposing and executing Jane. During Mary's reign, Elizabeth was imprisoned for nearly a year on suspicion of supporting Protestant rebels.\")\n",
      "Node: id='Mary' type='Person'\n",
      "Node Labels: No labels attribute\n",
      "Node Properties: {'id': 'Mary', 'type': 'Person', 'properties': {}}\n",
      "Node: id='Anne Boleyn' type='Person'\n",
      "Node Labels: No labels attribute\n",
      "Node Properties: {'id': 'Anne Boleyn', 'type': 'Person', 'properties': {}}\n",
      "Node: id='Edward VI' type='Person'\n",
      "Node Labels: No labels attribute\n",
      "Node Properties: {'id': 'Edward VI', 'type': 'Person', 'properties': {}}\n",
      "Node: id='Lady Jane Grey' type='Person'\n",
      "Node Labels: No labels attribute\n",
      "Node Properties: {'id': 'Lady Jane Grey', 'type': 'Person', 'properties': {}}\n",
      "Node: id='Henry VIII' type='Person'\n",
      "Node Labels: No labels attribute\n",
      "Node Properties: {'id': 'Henry VIII', 'type': 'Person', 'properties': {}}\n",
      "Node: id='Elizabeth' type='Person'\n",
      "Node Labels: No labels attribute\n",
      "Node Properties: {'id': 'Elizabeth', 'type': 'Person', 'properties': {}}\n",
      "Node: id='None' type='None'\n",
      "Node Labels: No labels attribute\n",
      "Node Properties: {'id': 'None', 'type': 'None', 'properties': {}}\n",
      "Document: nodes=[Node(id='James VI of Scotland', type='Person'), Node(id='English Protestant church', type='Organization'), Node(id='Baron Burghley', type='Title'), Node(id='Virgin Queen', type='Nickname'), Node(id='Elizabeth', type='Person'), Node(id='William Cecil', type='Person'), Node(id='throne', type='Position')] relationships=[Relationship(source=Node(id='Elizabeth', type='Person'), target=Node(id='throne', type='Position'), type='SUCCEEDED_TO'), Relationship(source=Node(id='William Cecil', type='Person'), target=Node(id='Elizabeth', type='Person'), type='LED_BY'), Relationship(source=Node(id='Elizabeth', type='Person'), target=Node(id='Baron Burghley', type='Title'), type='CREATED_BARON'), Relationship(source=Node(id='Elizabeth', type='Person'), target=Node(id='English Protestant church', type='Organization'), type='ESTABLISHED'), Relationship(source=Node(id='Elizabeth', type='Person'), target=Node(id='English Protestant church', type='Organization'), type='BECAME_SUPREME_GOVERNOR_OF'), Relationship(source=Node(id='Elizabeth', type='Person'), target=Node(id='Virgin Queen', type='Nickname'), type='REFERRED_TO_AS'), Relationship(source=Node(id='James VI of Scotland', type='Person'), target=Node(id='throne', type='Position'), type='SUCCEEDED_TO')] source=Document(page_content='Upon her half-sister\\'s death in 1558, Elizabeth succeeded to the throne and set out to rule by good counsel. She depended heavily on a group of trusted advisers led by William Cecil, whom she created Baron Burghley. One of her first actions as queen was the establishment of an English Protestant church, of which she became the supreme governor. This era, later named the Elizabethan Religious Settlement, would evolve into the Church of England. It was expected that Elizabeth would marry and produce an heir; however, despite numerous courtships, she never did, and because of this she is sometimes referred to as the \"Virgin Queen\". She was eventually succeeded by her first cousin twice removed, James VI of Scotland, the son of Mary, Queen of Scots.')\n",
      "Node: id='James VI of Scotland' type='Person'\n",
      "Node Labels: No labels attribute\n",
      "Node Properties: {'id': 'James VI of Scotland', 'type': 'Person', 'properties': {}}\n",
      "Node: id='English Protestant church' type='Organization'\n",
      "Node Labels: No labels attribute\n",
      "Node Properties: {'id': 'English Protestant church', 'type': 'Organization', 'properties': {}}\n",
      "Node: id='Baron Burghley' type='Title'\n",
      "Node Labels: No labels attribute\n",
      "Node Properties: {'id': 'Baron Burghley', 'type': 'Title', 'properties': {}}\n",
      "Node: id='Virgin Queen' type='Nickname'\n",
      "Node Labels: No labels attribute\n",
      "Node Properties: {'id': 'Virgin Queen', 'type': 'Nickname', 'properties': {}}\n",
      "Node: id='Elizabeth' type='Person'\n",
      "Node Labels: No labels attribute\n",
      "Node Properties: {'id': 'Elizabeth', 'type': 'Person', 'properties': {}}\n",
      "Node: id='William Cecil' type='Person'\n",
      "Node Labels: No labels attribute\n",
      "Node Properties: {'id': 'William Cecil', 'type': 'Person', 'properties': {}}\n",
      "Node: id='throne' type='Position'\n",
      "Node Labels: No labels attribute\n",
      "Node Properties: {'id': 'throne', 'type': 'Position', 'properties': {}}\n",
      "Document: nodes=[Node(id=\"her ministers' secret service\", type='Organization'), Node(id='Sir Francis Walsingham', type='Person'), Node(id='her father and siblings', type='Group'), Node(id='video et taceo', type='Motto'), Node(id='systematic persecution', type='Concept'), Node(id='England', type='Country'), Node(id='Spain', type='Country'), Node(id='religion', type='Attribute'), Node(id='Elizabeth', type='Person'), Node(id='France and Spain', type='Countries')] relationships=[Relationship(source=Node(id='Elizabeth', type='Person'), target=Node(id='her father and siblings', type='Group'), type='WAS_MORE_MODERATE_THAN'), Relationship(source=Node(id='Elizabeth', type='Person'), target=Node(id='video et taceo', type='Motto'), type='HAD_MOTTO'), Relationship(source=Node(id='Elizabeth', type='Person'), target=Node(id='religion', type='Attribute'), type='WAS_RELATIVELY_TOLERANT'), Relationship(source=Node(id='Elizabeth', type='Person'), target=Node(id='systematic persecution', type='Concept'), type='AVOIDED_SYSTEMATIC_PERSECUTION'), Relationship(source=Node(id='Elizabeth', type='Person'), target=Node(id=\"her ministers' secret service\", type='Organization'), type='WAS_HELPED_BY'), Relationship(source=Node(id='Sir Francis Walsingham', type='Person'), target=Node(id=\"her ministers' secret service\", type='Organization'), type='RUN'), Relationship(source=Node(id='Elizabeth', type='Person'), target=Node(id='France and Spain', type='Countries'), type='MANOEUVRED_BETWEEN'), Relationship(source=Node(id='England', type='Country'), target=Node(id='Spain', type='Country'), type='WAS_INVOLVED_IN_WAR_WITH')] source=Document(page_content='In government, Elizabeth was more moderate than her father and siblings had been. One of her mottoes was video et taceo (\"I see and keep silent\"). In religion, she was relatively tolerant and avoided systematic persecution. After the pope declared her illegitimate in 1570, which in theory released English Catholics from allegiance to her, several conspiracies threatened her life, all of which were defeated with the help of her ministers\\' secret service, run by Sir Francis Walsingham. Elizabeth was cautious in foreign affairs, manoeuvring between the major powers of France and Spain. She half-heartedly supported a number of ineffective, poorly resourced military campaigns in the Netherlands, France, and Ireland. By the mid-1580s, England could no longer avoid war with Spain.')\n",
      "Node: id=\"her ministers' secret service\" type='Organization'\n",
      "Node Labels: No labels attribute\n",
      "Node Properties: {'id': \"her ministers' secret service\", 'type': 'Organization', 'properties': {}}\n",
      "Node: id='Sir Francis Walsingham' type='Person'\n",
      "Node Labels: No labels attribute\n",
      "Node Properties: {'id': 'Sir Francis Walsingham', 'type': 'Person', 'properties': {}}\n",
      "Node: id='her father and siblings' type='Group'\n",
      "Node Labels: No labels attribute\n",
      "Node Properties: {'id': 'her father and siblings', 'type': 'Group', 'properties': {}}\n",
      "Node: id='video et taceo' type='Motto'\n",
      "Node Labels: No labels attribute\n",
      "Node Properties: {'id': 'video et taceo', 'type': 'Motto', 'properties': {}}\n",
      "Node: id='systematic persecution' type='Concept'\n",
      "Node Labels: No labels attribute\n",
      "Node Properties: {'id': 'systematic persecution', 'type': 'Concept', 'properties': {}}\n",
      "Node: id='England' type='Country'\n",
      "Node Labels: No labels attribute\n",
      "Node Properties: {'id': 'England', 'type': 'Country', 'properties': {}}\n",
      "Node: id='Spain' type='Country'\n",
      "Node Labels: No labels attribute\n",
      "Node Properties: {'id': 'Spain', 'type': 'Country', 'properties': {}}\n",
      "Node: id='religion' type='Attribute'\n",
      "Node Labels: No labels attribute\n",
      "Node Properties: {'id': 'religion', 'type': 'Attribute', 'properties': {}}\n",
      "Node: id='Elizabeth' type='Person'\n",
      "Node Labels: No labels attribute\n",
      "Node Properties: {'id': 'Elizabeth', 'type': 'Person', 'properties': {}}\n",
      "Node: id='France and Spain' type='Countries'\n",
      "Node Labels: No labels attribute\n",
      "Node Properties: {'id': 'France and Spain', 'type': 'Countries', 'properties': {}}\n",
      "Document: nodes=[Node(id='a charismatic performer and a dogged survivor', type='Description'), Node(id='around her', type='Relationship'), Node(id='her virginity', type='Characteristic'), Node(id='', type=''), Node(id='English drama', type='Field of Study'), Node(id='William Shakespeare', type='Person'), Node(id='Elizabethan era', type='Era'), Node(id='English maritime adventures', type='Field of Study'), Node(id='the flourishing of English drama', type='Field of Study'), Node(id='Francis Drake', type='Person'), Node(id='Christopher Marlowe', type='Person'), Node(id='economic and military problems', type='Characteristic'), Node(id='Elizabeth', type='Person'), Node(id='Walter Raleigh', type='Person'), Node(id='England', type='Location'), Node(id='the Elizabethan era', type='Era')] relationships=[Relationship(source=Node(id='Elizabeth', type='Person'), target=Node(id='her virginity', type='Characteristic'), type='BECAME_CELLEBRATED_FOR'), Relationship(source=Node(id='Elizabeth', type='Person'), target=Node(id='around her', type='Relationship'), type='HAD_CULT_OF_PERSONALITY'), Relationship(source=Node(id='Elizabeth', type='Person'), target=Node(id='England', type='Location'), type='RULED'), Relationship(source=Node(id='Elizabethan era', type='Era'), target=Node(id='', type=''), type='PERIOD_OF_TIME'), Relationship(source=Node(id='English drama', type='Field of Study'), target=Node(id='the Elizabethan era', type='Era'), type='FLOURISHED_DURING'), Relationship(source=Node(id='William Shakespeare', type='Person'), target=Node(id='the flourishing of English drama', type='Field of Study'), type='LED'), Relationship(source=Node(id='Christopher Marlowe', type='Person'), target=Node(id='the flourishing of English drama', type='Field of Study'), type='LED'), Relationship(source=Node(id='Francis Drake', type='Person'), target=Node(id='English maritime adventures', type='Field of Study'), type='EXHIBITED_PROWESS_IN'), Relationship(source=Node(id='Walter Raleigh', type='Person'), target=Node(id='English maritime adventures', type='Field of Study'), type='EXHIBITED_PROWESS_IN'), Relationship(source=Node(id='Elizabeth', type='Person'), target=Node(id='', type=''), type='DEFEATED_THE_SPANISH_ARMADA'), Relationship(source=Node(id='Elizabeth', type='Person'), target=Node(id='economic and military problems', type='Characteristic'), type='HAD_POPULARITY_WEAKENED_BY'), Relationship(source=Node(id='Elizabeth', type='Person'), target=Node(id='a charismatic performer and a dogged survivor', type='Description'), type='WAS_ACKNOWLEDGED_AS')] source=Document(page_content='As she grew older, Elizabeth became celebrated for her virginity. A cult of personality grew around her which was celebrated in the portraits, pageants, and literature of the day. Elizabeth\\'s reign became known as the Elizabethan era. The period is famous for the flourishing of English drama, led by playwrights such as William Shakespeare and Christopher Marlowe, the prowess of English maritime adventurers, such as Francis Drake and Walter Raleigh, and for the defeat of the Spanish Armada. Some historians depict Elizabeth as a short-tempered, sometimes indecisive ruler, who enjoyed more than her fair share of luck. Towards the end of her reign, a series of economic and military problems weakened her popularity. Elizabeth is acknowledged as a charismatic performer (\"Gloriana\") and a dogged survivor (\"Good Queen Bess\") in an era when government was ramshackle and limited, and when monarchs in neighbouring countries faced internal problems that jeopardised their thrones. After the short,')\n",
      "Node: id='a charismatic performer and a dogged survivor' type='Description'\n",
      "Node Labels: No labels attribute\n",
      "Node Properties: {'id': 'a charismatic performer and a dogged survivor', 'type': 'Description', 'properties': {}}\n",
      "Node: id='around her' type='Relationship'\n",
      "Node Labels: No labels attribute\n",
      "Node Properties: {'id': 'around her', 'type': 'Relationship', 'properties': {}}\n",
      "Node: id='her virginity' type='Characteristic'\n",
      "Node Labels: No labels attribute\n",
      "Node Properties: {'id': 'her virginity', 'type': 'Characteristic', 'properties': {}}\n",
      "Node: id='' type=''\n",
      "Node Labels: No labels attribute\n",
      "Node Properties: {'id': '', 'type': '', 'properties': {}}\n",
      "Node: id='English drama' type='Field of Study'\n",
      "Node Labels: No labels attribute\n",
      "Node Properties: {'id': 'English drama', 'type': 'Field of Study', 'properties': {}}\n",
      "Node: id='William Shakespeare' type='Person'\n",
      "Node Labels: No labels attribute\n",
      "Node Properties: {'id': 'William Shakespeare', 'type': 'Person', 'properties': {}}\n",
      "Node: id='Elizabethan era' type='Era'\n",
      "Node Labels: No labels attribute\n",
      "Node Properties: {'id': 'Elizabethan era', 'type': 'Era', 'properties': {}}\n",
      "Node: id='English maritime adventures' type='Field of Study'\n",
      "Node Labels: No labels attribute\n",
      "Node Properties: {'id': 'English maritime adventures', 'type': 'Field of Study', 'properties': {}}\n",
      "Node: id='the flourishing of English drama' type='Field of Study'\n",
      "Node Labels: No labels attribute\n",
      "Node Properties: {'id': 'the flourishing of English drama', 'type': 'Field of Study', 'properties': {}}\n",
      "Node: id='Francis Drake' type='Person'\n",
      "Node Labels: No labels attribute\n",
      "Node Properties: {'id': 'Francis Drake', 'type': 'Person', 'properties': {}}\n",
      "Node: id='Christopher Marlowe' type='Person'\n",
      "Node Labels: No labels attribute\n",
      "Node Properties: {'id': 'Christopher Marlowe', 'type': 'Person', 'properties': {}}\n",
      "Node: id='economic and military problems' type='Characteristic'\n",
      "Node Labels: No labels attribute\n",
      "Node Properties: {'id': 'economic and military problems', 'type': 'Characteristic', 'properties': {}}\n",
      "Node: id='Elizabeth' type='Person'\n",
      "Node Labels: No labels attribute\n",
      "Node Properties: {'id': 'Elizabeth', 'type': 'Person', 'properties': {}}\n",
      "Node: id='Walter Raleigh' type='Person'\n",
      "Node Labels: No labels attribute\n",
      "Node Properties: {'id': 'Walter Raleigh', 'type': 'Person', 'properties': {}}\n",
      "Node: id='England' type='Location'\n",
      "Node Labels: No labels attribute\n",
      "Node Properties: {'id': 'England', 'type': 'Location', 'properties': {}}\n",
      "Node: id='the Elizabethan era' type='Era'\n",
      "Node Labels: No labels attribute\n",
      "Node Properties: {'id': 'the Elizabethan era', 'type': 'Era', 'properties': {}}\n",
      "Document: nodes=[Node(id='Gloriana', type='Nickname'), Node(id='kingdom', type='Location'), Node(id='Good Queen Bess', type='Nickname'), Node(id='Elizabeth', type='Person')] relationships=[Relationship(source=Node(id='Elizabeth', type='Person'), target=Node(id='kingdom', type='Location'), type='REIGNS_OVER'), Relationship(source=Node(id='Gloriana', type='Nickname'), target=Node(id='Elizabeth', type='Person'), type='CHARACTERIZED_AS'), Relationship(source=Node(id='Good Queen Bess', type='Nickname'), target=Node(id='Elizabeth', type='Person'), type='CHARACTERIZED_AS')] source=Document(page_content='her popularity. Elizabeth is acknowledged as a charismatic performer (\"Gloriana\") and a dogged survivor (\"Good Queen Bess\") in an era when government was ramshackle and limited, and when monarchs in neighbouring countries faced internal problems that jeopardised their thrones. After the short, disastrous reigns of her half-siblings, her 44 years on the throne provided welcome stability for the kingdom and helped to forge a sense of national identity.')\n",
      "Node: id='Gloriana' type='Nickname'\n",
      "Node Labels: No labels attribute\n",
      "Node Properties: {'id': 'Gloriana', 'type': 'Nickname', 'properties': {}}\n",
      "Node: id='kingdom' type='Location'\n",
      "Node Labels: No labels attribute\n",
      "Node Properties: {'id': 'kingdom', 'type': 'Location', 'properties': {}}\n",
      "Node: id='Good Queen Bess' type='Nickname'\n",
      "Node Labels: No labels attribute\n",
      "Node Properties: {'id': 'Good Queen Bess', 'type': 'Nickname', 'properties': {}}\n",
      "Node: id='Elizabeth' type='Person'\n",
      "Node Labels: No labels attribute\n",
      "Node Properties: {'id': 'Elizabeth', 'type': 'Person', 'properties': {}}\n",
      "Document: nodes=[Node(id='Elizabeth of York', type='Person'), Node(id='Lady Elizabeth Howard', type='Person'), Node(id='Greenwich Palace', type='Location'), Node(id='Ann', type='Person'), Node(id='Elizabeth', type='Person'), Node(id='Henry VIII of England', type='Person')] relationships=[Relationship(source=Node(id='Elizabeth', type='Person'), target=Node(id='Greenwich Palace', type='Location'), type='BORN_AT'), Relationship(source=Node(id='Elizabeth', type='Person'), target=Node(id='Elizabeth of York', type='Person'), type='NAMED_AFTER'), Relationship(source=Node(id='Elizabeth', type='Person'), target=Node(id='Lady Elizabeth Howard', type='Person'), type='NAMED_AFTER'), Relationship(source=Node(id='Henry VIII of England', type='Person'), target=Node(id='Elizabeth', type='Person'), type='PARENT_OF'), Relationship(source=Node(id='Ann', type='Person'), target=Node(id='Elizabeth', type='Person'), type='MOTHER_OF')] source=Document(page_content=\"== Early life ==\\n\\nElizabeth was born at Greenwich Palace on 7 September 1533 and was named after her grandmothers, Elizabeth of York and Lady Elizabeth Howard. She was the second child of Henry VIII of England born in wedlock to survive infancy. Her mother was Henry's second wife, Ann\")\n",
      "Node: id='Elizabeth of York' type='Person'\n",
      "Node Labels: No labels attribute\n",
      "Node Properties: {'id': 'Elizabeth of York', 'type': 'Person', 'properties': {}}\n",
      "Node: id='Lady Elizabeth Howard' type='Person'\n",
      "Node Labels: No labels attribute\n",
      "Node Properties: {'id': 'Lady Elizabeth Howard', 'type': 'Person', 'properties': {}}\n",
      "Node: id='Greenwich Palace' type='Location'\n",
      "Node Labels: No labels attribute\n",
      "Node Properties: {'id': 'Greenwich Palace', 'type': 'Location', 'properties': {}}\n",
      "Node: id='Ann' type='Person'\n",
      "Node Labels: No labels attribute\n",
      "Node Properties: {'id': 'Ann', 'type': 'Person', 'properties': {}}\n",
      "Node: id='Elizabeth' type='Person'\n",
      "Node Labels: No labels attribute\n",
      "Node Properties: {'id': 'Elizabeth', 'type': 'Person', 'properties': {}}\n",
      "Node: id='Henry VIII of England' type='Person'\n",
      "Node Labels: No labels attribute\n",
      "Node Properties: {'id': 'Henry VIII of England', 'type': 'Person', 'properties': {}}\n"
     ]
    }
   ],
   "source": [
    "for document in graph_documents:\n",
    "    print(\"Document:\", document)\n",
    "    for node in document.nodes:\n",
    "        print(\"Node:\", node)\n",
    "        print(\"Node Labels:\", getattr(node, 'labels', 'No labels attribute'))\n",
    "        print(\"Node Properties:\", node.__dict__)\n"
   ]
  },
  {
   "cell_type": "code",
   "execution_count": 61,
   "metadata": {},
   "outputs": [],
   "source": [
    "def clean_node_labels(node):\n",
    "    \"\"\"Clean and validate node labels.\"\"\"\n",
    "    if hasattr(node, 'labels'):\n",
    "        # Clean the labels by removing None or empty string values\n",
    "        node.labels = [label for label in node.labels if label]\n",
    "    return node\n"
   ]
  },
  {
   "cell_type": "code",
   "execution_count": 62,
   "metadata": {},
   "outputs": [],
   "source": [
    "def validate_node(node):\n",
    "    \"\"\"Check if a node is valid by ensuring it has necessary attributes.\"\"\"\n",
    "    return bool(node.id and node.type)\n",
    "\n",
    "def sanitize_graph_documents(documents):\n",
    "    sanitized_docs = []\n",
    "    for doc in documents:\n",
    "        sanitized_nodes = [clean_node_labels(node) for node in doc.nodes if validate_node(node)]\n",
    "        sanitized_relationships = [\n",
    "            rel for rel in doc.relationships\n",
    "            if validate_node(rel.source) and validate_node(rel.target)\n",
    "        ]\n",
    "        page_content = getattr(doc.source, 'page_content', '')\n",
    "        sanitized_docs.append(Document(\n",
    "            nodes=sanitized_nodes,\n",
    "            relationships=sanitized_relationships,\n",
    "            source=doc.source,\n",
    "            page_content=page_content\n",
    "        ))\n",
    "    return sanitized_docs\n"
   ]
  },
  {
   "cell_type": "code",
   "execution_count": 63,
   "metadata": {},
   "outputs": [],
   "source": [
    "class Document:\n",
    "    def __init__(self, nodes, relationships, source, page_content):\n",
    "        self.nodes = nodes\n",
    "        self.relationships = relationships\n",
    "        self.source = source\n",
    "        self.page_content = page_content\n"
   ]
  },
  {
   "cell_type": "code",
   "execution_count": 64,
   "metadata": {},
   "outputs": [],
   "source": [
    "def get_page_content(source):\n",
    "    # Implement this based on your source structure\n",
    "    return getattr(source, 'page_content', '')\n",
    "\n",
    "def sanitize_graph_documents(documents):\n",
    "    sanitized_docs = []\n",
    "    for doc in documents:\n",
    "        sanitized_nodes = [clean_node_labels(node) for node in doc.nodes if validate_node(node)]\n",
    "        sanitized_relationships = [\n",
    "            rel for rel in doc.relationships\n",
    "            if validate_node(rel.source) and validate_node(rel.target)\n",
    "        ]\n",
    "        page_content = get_page_content(doc.source)\n",
    "        sanitized_docs.append(Document(\n",
    "            nodes=sanitized_nodes,\n",
    "            relationships=sanitized_relationships,\n",
    "            source=doc.source,\n",
    "            page_content=page_content\n",
    "        ))\n",
    "    return sanitized_docs\n"
   ]
  },
  {
   "cell_type": "code",
   "execution_count": 66,
   "metadata": {},
   "outputs": [],
   "source": [
    "try:\n",
    "    sanitized_graph_documents = sanitize_graph_documents(graph_documents)\n",
    "    graph.add_graph_documents(sanitized_graph_documents)\n",
    "except Exception as e:\n",
    "    print(f\"Error: {e}\")\n"
   ]
  },
  {
   "cell_type": "code",
   "execution_count": 154,
   "metadata": {},
   "outputs": [],
   "source": [
    "import json\n",
    "import re\n",
    "from langchain.llms import Ollama\n",
    "\n",
    "model = Ollama(model=\"llama3\")\n",
    "\n",
    "def identify_entities(query):\n",
    "    prompt = (\n",
    "        f\"Identify all entities (people, organizations) in the following text:\\n\\n\"\n",
    "        f\"{query}\\n\\n\"\n",
    "        \"Return only the entity names as a JSON array. Example format:\\n\"\n",
    "        '[\"Entity1\", \"Entity2\", \"Entity3\"]'\n",
    "    )\n",
    "    \n",
    "    response = model.generate([prompt])\n",
    "    \n",
    "    response_text = response.generations[0][0].text.strip()\n",
    "    \n",
    "    print(\"Raw model response:\", response_text)\n",
    "    \n",
    "    json_text = re.search(r'\\[.*?\\]', response_text, re.DOTALL)\n",
    "    \n",
    "    if json_text:\n",
    "        json_text = json_text.group()\n",
    "        try:\n",
    "            entities_json = json.loads(json_text)\n",
    "        except json.JSONDecodeError:\n",
    "            print(\"Error decoding JSON from the extracted text.\")\n",
    "            entities_json = []\n",
    "    else:\n",
    "        print(\"No JSON array found in the response.\")\n",
    "        entities_json = []\n",
    "    \n",
    "    return entities_json\n",
    "\n"
   ]
  },
  {
   "cell_type": "code",
   "execution_count": 104,
   "metadata": {},
   "outputs": [
    {
     "data": {
      "text/plain": [
       "['Elizabeth I', 'The Vatican']"
      ]
     },
     "execution_count": 104,
     "metadata": {},
     "output_type": "execute_result"
    }
   ],
   "source": [
    "entities"
   ]
  },
  {
   "cell_type": "code",
   "execution_count": 115,
   "metadata": {},
   "outputs": [],
   "source": [
    "def find_all_relations(entities):\n",
    "    relations = []\n",
    "\n",
    "    for entity in entities:\n",
    "        query = (\n",
    "            f\"MATCH (e)-[r]-(related) \"\n",
    "            f\"WHERE e.id = '{entity}' \"\n",
    "            f\"RETURN e.id AS entity, type(r) AS relationship, related.id AS related_entity\"\n",
    "        )\n",
    "\n",
    "        try:\n",
    "            result = graph.query(query)\n",
    "            for record in result:\n",
    "                relations.append({\n",
    "                    \"entity\": record[\"entity\"],\n",
    "                    \"relationship\": record[\"relationship\"],\n",
    "                    \"related_entity\": record[\"related_entity\"]\n",
    "                })\n",
    "        except Exception as e:\n",
    "            print(f\"Error executing query for entity '{entity}': {e}\")\n",
    "\n",
    "    return relations\n"
   ]
  },
  {
   "cell_type": "code",
   "execution_count": 155,
   "metadata": {},
   "outputs": [],
   "source": [
    "\n",
    "def display_relations_as_text(relations):\n",
    "    queries = []\n",
    "    for relation in relations:\n",
    "        entity = relation['entity']\n",
    "        relationship = relation['relationship']\n",
    "        related_entity = relation['related_entity']\n",
    "        queries.append(f\"{entity} -> {relationship} -> {related_entity}\")\n",
    "    \n",
    "    # Combine all relations into a single query string\n",
    "    query_string = \" . \".join(queries) + \" . \"\n",
    "    return query_string"
   ]
  },
  {
   "cell_type": "code",
   "execution_count": 136,
   "metadata": {},
   "outputs": [],
   "source": [
    "from langchain.embeddings import HuggingFaceEmbeddings\n"
   ]
  },
  {
   "cell_type": "code",
   "execution_count": 137,
   "metadata": {},
   "outputs": [
    {
     "name": "stderr",
     "output_type": "stream",
     "text": [
      "c:\\Users\\musta\\AppData\\Local\\Programs\\Python\\Python311\\Lib\\site-packages\\huggingface_hub\\file_download.py:1132: FutureWarning: `resume_download` is deprecated and will be removed in version 1.0.0. Downloads always resume when possible. If you want to force a new download, use `force_download=True`.\n",
      "  warnings.warn(\n"
     ]
    }
   ],
   "source": [
    "embedding_model = HuggingFaceEmbeddings(model_name=\"sentence-transformers/all-MiniLM-L6-v2\")\n"
   ]
  },
  {
   "cell_type": "code",
   "execution_count": 149,
   "metadata": {},
   "outputs": [],
   "source": [
    "from langchain_community.vectorstores import Neo4jVector\n"
   ]
  },
  {
   "cell_type": "code",
   "execution_count": 150,
   "metadata": {},
   "outputs": [],
   "source": [
    "db = Neo4jVector.from_documents(\n",
    "    docs, embedding_model, url=NEO4J_URI, username=NEO4J_USERNAME, password=NEO4J_PASSWORD\n",
    ")"
   ]
  },
  {
   "cell_type": "code",
   "execution_count": 151,
   "metadata": {},
   "outputs": [],
   "source": [
    "docs_with_score = db.similarity_search_with_score(query, k=2)"
   ]
  },
  {
   "cell_type": "code",
   "execution_count": 152,
   "metadata": {},
   "outputs": [
    {
     "name": "stdout",
     "output_type": "stream",
     "text": [
      "--------------------------------------------------------------------------------\n",
      "Score:  0.8280444741249084\n",
      "Elizabeth Boleyn, Countess of Wiltshire (born Elizabeth Howard; c. 1480 – 3 April 1538) was an English noblewoman, noted for being the mother of Anne Boleyn and as such the maternal grandmother of Elizabeth I of England. The eldest daughter of Thomas Howard, 2nd Duke of Norfolk and his first wife Elizabeth Tilney, she married Thomas Boleyn sometime in the later 15th century. Elizabeth became Viscountess Rochford in 1525 when her husband was elevated to the peerage, subsequently becoming Countess of Ormond in 1527 and Countess of Wiltshire in 1529.\n",
      "\n",
      "\n",
      "== Family and early life ==\n",
      "Elizabeth was born c. 1480 into the wealthy and influential Howard family, as the elder of the two daughters of Sir Thomas Howard, later 2nd Duke of Norfolk, and his first wife Elizabeth Tilney. Her paternal grandfather, Sir John Howard, was created Duke of Norfolk in 1483 by King Richard III.\n",
      "Her family managed to survive the fall of their patron, King Richard III, who was killed at Bosworth in 1485 and supplanted by the victor, King Henry VII, when she was about five years old. Elizabeth became a part of the royal court as a young girl.\n",
      "\n",
      "\n",
      "== Marriage and lady-in-waiting for the royal court ==\n",
      "It was while she was at court, that she wed Thomas Boleyn, an ambitious young courtier, sometime before 1500, probably in 1498. According to Thomas, his wife was pregnant many times in the next few years but only three children lived to adulthood. The three children were:\n",
      "\n",
      "Mary Boleyn, mistress of Henry VIII of England (c. 1499 – 19 July 1543).\n",
      "George Boleyn, Viscount Rochford (c. 1504 – 17 May 1536).\n",
      "Anne Boleyn, Queen consort of Henry VIII of England (c. 1501/7 – 19 May 1536)\n",
      "The other two boys were Thomas born 1496 and Henry 'Hal' born 1500.  Both died of the sweating sickness plague during the outbreak in 1517.\n",
      "Throughout this time, Elizabeth was a lady-in-waiting at the royal court; first to Elizabeth of York, and then to Catherine of Aragon. Based on later gossip, Elizabeth Boleyn must have been a highly attractive woman. Rumours circulated when Henry was involved with Anne Boleyn that Elizabeth had once been his mistress, with the suggestion even being made that Anne Boleyn might be the daughter of Henry VIII. However, despite recent attempts by one or two historians to rehabilitate this myth, it was denied by Henry and never mentioned in the dispensation he sought in order to make his union with Anne lawful. Most historians believe it is likely that this rumour began by confusing Elizabeth with Henry's more famous mistress Elizabeth Blount, or from the growing unpopularity of the Boleyn family after 1527.\n",
      "\n",
      "\n",
      "== 1519–1536 ==\n",
      "\n",
      "In 1519, Elizabeth's daughters, Anne and Mary, were living in the French royal court as Ladies-in-waiting to the French Queen consort Claude. According to the papal nuncio in France fifteen years later, the French King Francis I had referred to Mary as \"my English mare\", and later in his life described her as \"a great whore, the most infamous of all\".\n",
      "In the words of historian M.L. Bruce, both Thomas and Elizabeth \"developed feelings of dislike\" for their daughter Mary. In later years, Mary's romantic involvements would only further strain this relationship. Around 1520, the Boleyns managed to arrange Mary's marriage to William Carey, a respected and popular man at court. It was sometime after the wedding that Mary became mistress to Henry VIII (the exact dates as to when the affair started and ended are unknown), although she never held the title of \"official royal mistress,\" as the post did not exist in England. It has long been rumoured that one or both of Mary Boleyn's children were fathered by Henry and not Carey. Some historians, such as Alison Weir, now question whether Henry Carey was fathered by the King. Few of Henry's mistresses were ever publicly honoured, except Elizabeth Blount, who was mentioned in Parliament and whose son, Henry Fitzroy, was created Duke of Richmond and Somerset in an elaborate public ceremony in 1525. H\n",
      "--------------------------------------------------------------------------------\n",
      "--------------------------------------------------------------------------------\n",
      "Score:  0.8082146048545837\n",
      "Elizabeth I (7 September 1533 – 24 March 1603) was Queen of England and Ireland from 17 November 1558 until her death in 1603. She was the last monarch of the House of Tudor.\n",
      "Elizabeth was the only surviving child of Henry VIII and his second wife, Anne Boleyn. When Elizabeth was two years old, her parents' marriage was annulled, her mother was executed, and Elizabeth was declared illegitimate. Henry restored her to the line of succession when she was 10, via the Third Succession Act 1543. After Henry's death in 1547, Elizabeth's younger half-brother Edward VI ruled until his own death in 1553, bequeathing the crown to a Protestant cousin, Lady Jane Grey, and ignoring the claims of his two half-sisters, the Catholic Mary and the younger Elizabeth, in spite of statutes to the contrary. Edward's will was set aside within weeks of his death and Mary became queen, deposing and executing Jane. During Mary's reign, Elizabeth was imprisoned for nearly a year on suspicion of supporting Protestant rebels.\n",
      "Upon her half-sister's death in 1558, Elizabeth succeeded to the throne and set out to rule by good counsel. She depended heavily on a group of trusted advisers led by William Cecil, whom she created Baron Burghley. One of her first actions as queen was the establishment of an English Protestant church, of which she became the supreme governor. This era, later named the Elizabethan Religious Settlement, would evolve into the Church of England. It was expected that Elizabeth would marry and produce an heir; however, despite numerous courtships, she never did, and because of this she is sometimes referred to as the \"Virgin Queen\". She was eventually succeeded by her first cousin twice removed, James VI of Scotland, the son of Mary, Queen of Scots.\n",
      "In government, Elizabeth was more moderate than her father and siblings had been. One of her mottoes was video et taceo (\"I see and keep silent\"). In religion, she was relatively tolerant and avoided systematic persecution. After the pope declared her illegitimate in 1570, which in theory released English Catholics from allegiance to her, several conspiracies threatened her life, all of which were defeated with the help of her ministers' secret service, run by Sir Francis Walsingham. Elizabeth was cautious in foreign affairs, manoeuvring between the major powers of France and Spain. She half-heartedly supported a number of ineffective, poorly resourced military campaigns in the Netherlands, France, and Ireland. By the mid-1580s, England could no longer avoid war with Spain.\n",
      "As she grew older, Elizabeth became celebrated for her virginity. A cult of personality grew around her which was celebrated in the portraits, pageants, and literature of the day. Elizabeth's reign became known as the Elizabethan era. The period is famous for the flourishing of English drama, led by playwrights such as William Shakespeare and Christopher Marlowe, the prowess of English maritime adventurers, such as Francis Drake and Walter Raleigh, and for the defeat of the Spanish Armada. Some historians depict Elizabeth as a short-tempered, sometimes indecisive ruler, who enjoyed more than her fair share of luck. Towards the end of her reign, a series of economic and military problems weakened her popularity. Elizabeth is acknowledged as a charismatic performer (\"Gloriana\") and a dogged survivor (\"Good Queen Bess\") in an era when government was ramshackle and limited, and when monarchs in neighbouring countries faced internal problems that jeopardised their thrones. After the short, disastrous reigns of her half-siblings, her 44 years on the throne provided welcome stability for the kingdom and helped to forge a sense of national identity.\n",
      "\n",
      "\n",
      "== Early life ==\n",
      "\n",
      "Elizabeth was born at Greenwich Palace on 7 September 1533 and was named after her grandmothers, Elizabeth of York and Lady Elizabeth Howard. She was the second child of Henry VIII of England born in wedlock to survive infancy. Her mother was Henry's second wife, Ann\n",
      "--------------------------------------------------------------------------------\n"
     ]
    }
   ],
   "source": [
    "for doc, score in docs_with_score:\n",
    "    print(\"-\" * 80)\n",
    "    print(\"Score: \", score)\n",
    "    print(doc.page_content)\n",
    "    print(\"-\" * 80)"
   ]
  },
  {
   "cell_type": "code",
   "execution_count": 153,
   "metadata": {},
   "outputs": [],
   "source": [
    "from langchain.prompts import PromptTemplate\n",
    "\n",
    "template = \"\"\"\n",
    "You are an AI trained to analyze and interpret text data. Given the following query and the related documents, please provide a detailed and insightful response.\n",
    "\n",
    "Query: {query}\n",
    "\n",
    "Related Documents:\n",
    "{docs}\n",
    "\n",
    "Relations:\n",
    "{relations}\n",
    "\n",
    "Response:\n",
    "\"\"\"\n",
    "prompt_template = PromptTemplate(\n",
    "    input_variables=[\"query\", \"docs\", \"relations\"],\n",
    "    template=template\n",
    ")\n"
   ]
  },
  {
   "cell_type": "code",
   "execution_count": 156,
   "metadata": {},
   "outputs": [],
   "source": [
    "\n",
    "query = \"who is elizabeth?\"\n",
    "# Fetch similarity search results\n",
    "docs_with_score = db.similarity_search_with_score(query, k=2)\n",
    "\n",
    "\n",
    "relations = find_all_relations(query)\n",
    "# Define relations as text\n",
    "\n",
    "relations_text = display_relations_as_text(relations)\n",
    "\n",
    "# Format the prompt input\n",
    "prompt_input = prompt_template.format(\n",
    "    query=query,\n",
    "    docs=docs_with_score,\n",
    "    relations=relations_text\n",
    ")\n"
   ]
  },
  {
   "cell_type": "code",
   "execution_count": 157,
   "metadata": {},
   "outputs": [
    {
     "name": "stderr",
     "output_type": "stream",
     "text": [
      "c:\\Users\\musta\\AppData\\Local\\Programs\\Python\\Python311\\Lib\\site-packages\\langchain_core\\_api\\deprecation.py:139: LangChainDeprecationWarning: The method `BaseLLM.__call__` was deprecated in langchain-core 0.1.7 and will be removed in 0.3.0. Use invoke instead.\n",
      "  warn_deprecated(\n"
     ]
    }
   ],
   "source": [
    "response = model(prompt_input)\n"
   ]
  },
  {
   "cell_type": "code",
   "execution_count": null,
   "metadata": {},
   "outputs": [],
   "source": [
    "print(response)"
   ]
  }
 ],
 "metadata": {
  "kernelspec": {
   "display_name": "Python 3",
   "language": "python",
   "name": "python3"
  },
  "language_info": {
   "codemirror_mode": {
    "name": "ipython",
    "version": 3
   },
   "file_extension": ".py",
   "mimetype": "text/x-python",
   "name": "python",
   "nbconvert_exporter": "python",
   "pygments_lexer": "ipython3",
   "version": "3.11.3"
  }
 },
 "nbformat": 4,
 "nbformat_minor": 2
}
